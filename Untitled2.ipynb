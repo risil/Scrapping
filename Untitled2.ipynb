{
 "cells": [
  {
   "cell_type": "code",
   "execution_count": 3,
   "id": "e3e3d8fc",
   "metadata": {},
   "outputs": [
    {
     "name": "stdout",
     "output_type": "stream",
     "text": [
      "1905.04210.pdf:\n",
      "{lrasantos, agpereira}@inf.ufrgs.br\n",
      "1907.02679.pdf:\n",
      "{zenan.zhai,dqnguyen,trevor.cohn,karin.verspoor}@unimelb.edu.au\n",
      "{s.akhondi,c.thorne.1,c.druckenbrodt,m.gregory}@elsevier.com\n",
      "2102.03303.pdf:\n",
      "{alexeiuteshev,semenova.elissaveta}@gmail.com\n",
      "2310.07871.pdf:\n",
      "{xcwang, junyu, jqwang, zmy5171, sxc6192, yfz5556, fenglong}@psu.edu\n"
     ]
    }
   ],
   "source": [
    "import fitz  # PyMuPDF\n",
    "import re\n",
    "import os\n",
    "\n",
    "# Specify the folder containing the PDF files\n",
    "pdf_folder = '101-150'\n",
    "\n",
    "# Regular expression for matching email addresses\n",
    "email_regex = r'\\b[{][A-Za-z0-9._%+-, }]+@[A-Za-z0-9.-]+\\.[A-Z|a-z]{2,7}\\b'\n",
    "\n",
    "# Function to extract email addresses from a PDF file\n",
    "def extract_emails_from_pdf(pdf_file):\n",
    "    doc = fitz.open(pdf_file)\n",
    "    text = ''\n",
    "    \n",
    "    for page_num in range(len(doc)):\n",
    "        page = doc.load_page(page_num)\n",
    "        text += page.get_text()\n",
    "\n",
    "    emails = re.findall(email_regex, text)\n",
    "    return emails\n",
    "\n",
    "# List all PDF files in the folder\n",
    "pdf_files = [f for f in os.listdir(pdf_folder) if f.endswith('.pdf')]\n",
    "\n",
    "# Extract and print email addresses from each PDF\n",
    "for pdf_file in pdf_files:\n",
    "    pdf_path = os.path.join(pdf_folder, pdf_file)\n",
    "    email_addresses = extract_emails_from_pdf(pdf_path)\n",
    "    \n",
    "    if email_addresses:\n",
    "        print(f'{pdf_file}:')\n",
    "        for email in email_addresses:\n",
    "            print(email)\n",
    "\n",
    "# You can also save the email addresses to a file if needed.\n",
    "\n"
   ]
  },
  {
   "cell_type": "code",
   "execution_count": null,
   "id": "81c42abe",
   "metadata": {},
   "outputs": [],
   "source": []
  }
 ],
 "metadata": {
  "kernelspec": {
   "display_name": "Python 3 (ipykernel)",
   "language": "python",
   "name": "python3"
  },
  "language_info": {
   "codemirror_mode": {
    "name": "ipython",
    "version": 3
   },
   "file_extension": ".py",
   "mimetype": "text/x-python",
   "name": "python",
   "nbconvert_exporter": "python",
   "pygments_lexer": "ipython3",
   "version": "3.11.3"
  }
 },
 "nbformat": 4,
 "nbformat_minor": 5
}
