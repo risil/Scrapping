{
 "cells": [
  {
   "cell_type": "code",
   "execution_count": 19,
   "id": "9e9377b0",
   "metadata": {},
   "outputs": [
    {
     "ename": "AttributeError",
     "evalue": "'WebDriver' object has no attribute 'find_element_by_xpath'",
     "output_type": "error",
     "traceback": [
      "\u001b[1;31m---------------------------------------------------------------------------\u001b[0m",
      "\u001b[1;31mAttributeError\u001b[0m                            Traceback (most recent call last)",
      "Cell \u001b[1;32mIn[19], line 28\u001b[0m\n\u001b[0;32m     23\u001b[0m browser\u001b[38;5;241m.\u001b[39mget(url)\n\u001b[0;32m     25\u001b[0m \u001b[38;5;66;03m# You might need to locate the element where the PDF is embedded and interact with it (e.g., click a download button or trigger the PDF to open)\u001b[39;00m\n\u001b[0;32m     26\u001b[0m \n\u001b[0;32m     27\u001b[0m \u001b[38;5;66;03m# For example, if there's a button to download the PDF:\u001b[39;00m\n\u001b[1;32m---> 28\u001b[0m pdf_download_button \u001b[38;5;241m=\u001b[39m browser\u001b[38;5;241m.\u001b[39mfind_element_by_xpath(\u001b[38;5;124m\"\u001b[39m\u001b[38;5;124m//xpath_of_the_download_button\u001b[39m\u001b[38;5;124m\"\u001b[39m)\n\u001b[0;32m     29\u001b[0m pdf_download_button\u001b[38;5;241m.\u001b[39mclick()\n",
      "\u001b[1;31mAttributeError\u001b[0m: 'WebDriver' object has no attribute 'find_element_by_xpath'"
     ]
    }
   ],
   "source": [
    "from selenium import webdriver\n",
    "\n",
    "# Path to your ChromeDriver. Update this with your path.\n",
    "#chrome_driver_path = '/path/to/chromedriver'\n",
    "\n",
    "# URL of the webpage containing the embedded PDF\n",
    "url = 'https://ietresearch.onlinelibrary.wiley.com/doi/pdfdirect/10.1049/csy2.12100'\n",
    "\n",
    "# Set Chrome options to allow PDF download\n",
    "#chrome_options = webdriver.ChromeOptions()\n",
    "#chrome_options.add_argument(\"plugins.always_open_pdf_externally\", true);\n",
    "\n",
    "chromeOptions = webdriver.ChromeOptions()\n",
    "prefs = {\"plugins.plugins_disabled\" : [\"Chrome PDF Viewer\"]} # Here should be a list\n",
    "chromeOptions.add_experimental_option(\"prefs\",prefs)\n",
    "#chromedriver = \"C:\\ProgramData\\Microsoft\\Windows\\Start Menu\\Programs\\chromedriver.exe\"\n",
    "browser = webdriver.Chrome(chromeOptions)\n",
    "\n",
    "# Create a Chrome browser instance\n",
    "#browser = webdriver.Chrome()\n",
    "\n",
    "# Open the webpage\n",
    "browser.get(url)\n",
    "\n",
    "# You might need to locate the element where the PDF is embedded and interact with it (e.g., click a download button or trigger the PDF to open)\n",
    "\n",
    "# For example, if there's a button to download the PDF:\n",
    "# pdf_download_button = browser.find_element_by_xpath(\"//xpath_of_the_download_button\")\n",
    "# pdf_download_button.click()\n",
    "\n",
    "# Or if the PDF opens in a new tab, you might need to switch to that tab and save it using the browser\n",
    "\n",
    "# Close the browser once the download is complete\n",
    "#browser.quit()\n"
   ]
  },
  {
   "cell_type": "code",
   "execution_count": null,
   "id": "3b43f173",
   "metadata": {},
   "outputs": [],
   "source": []
  },
  {
   "cell_type": "code",
   "execution_count": null,
   "id": "a30ec082",
   "metadata": {},
   "outputs": [],
   "source": []
  }
 ],
 "metadata": {
  "kernelspec": {
   "display_name": "Python 3 (ipykernel)",
   "language": "python",
   "name": "python3"
  },
  "language_info": {
   "codemirror_mode": {
    "name": "ipython",
    "version": 3
   },
   "file_extension": ".py",
   "mimetype": "text/x-python",
   "name": "python",
   "nbconvert_exporter": "python",
   "pygments_lexer": "ipython3",
   "version": "3.11.3"
  }
 },
 "nbformat": 4,
 "nbformat_minor": 5
}
