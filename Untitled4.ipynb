{
 "cells": [
  {
   "cell_type": "code",
   "execution_count": 3,
   "id": "a773e069",
   "metadata": {},
   "outputs": [
    {
     "ename": "NumberParseException",
     "evalue": "(1) The string supplied did not seem to be a phone number.",
     "output_type": "error",
     "traceback": [
      "\u001b[1;31m---------------------------------------------------------------------------\u001b[0m",
      "\u001b[1;31mNumberParseException\u001b[0m                      Traceback (most recent call last)",
      "Cell \u001b[1;32mIn[3], line 43\u001b[0m\n\u001b[0;32m     40\u001b[0m \u001b[38;5;28;01mexcept\u001b[39;00m pd\u001b[38;5;241m.\u001b[39merrors\u001b[38;5;241m.\u001b[39mEmptyDataError:\n\u001b[0;32m     41\u001b[0m     \u001b[38;5;28;01mcontinue\u001b[39;00m  \u001b[38;5;66;03m# Skip empty Excel files\u001b[39;00m\n\u001b[1;32m---> 43\u001b[0m indian_mobile_numbers \u001b[38;5;241m=\u001b[39m extract_indian_mobile_numbers(df)\n\u001b[0;32m     45\u001b[0m \u001b[38;5;28;01mif\u001b[39;00m indian_mobile_numbers:\n\u001b[0;32m     46\u001b[0m     \u001b[38;5;28mprint\u001b[39m(\u001b[38;5;124mf\u001b[39m\u001b[38;5;124m'\u001b[39m\u001b[38;5;124mIndian mobile numbers in \u001b[39m\u001b[38;5;132;01m{\u001b[39;00mexcel_file\u001b[38;5;132;01m}\u001b[39;00m\u001b[38;5;124m:\u001b[39m\u001b[38;5;124m'\u001b[39m)\n",
      "Cell \u001b[1;32mIn[3], line 20\u001b[0m, in \u001b[0;36mextract_indian_mobile_numbers\u001b[1;34m(df)\u001b[0m\n\u001b[0;32m     18\u001b[0m matches \u001b[38;5;241m=\u001b[39m re\u001b[38;5;241m.\u001b[39mfindall(phone_number_regex, value)\n\u001b[0;32m     19\u001b[0m \u001b[38;5;28;01mfor\u001b[39;00m match \u001b[38;5;129;01min\u001b[39;00m matches:\n\u001b[1;32m---> 20\u001b[0m     parsed_number \u001b[38;5;241m=\u001b[39m phonenumbers\u001b[38;5;241m.\u001b[39mparse(match, \u001b[38;5;124m\"\u001b[39m\u001b[38;5;124mIN\u001b[39m\u001b[38;5;124m\"\u001b[39m)\n\u001b[0;32m     21\u001b[0m     \u001b[38;5;28;01mif\u001b[39;00m (\n\u001b[0;32m     22\u001b[0m         phonenumbers\u001b[38;5;241m.\u001b[39mis_possible_number(parsed_number)\n\u001b[0;32m     23\u001b[0m         \u001b[38;5;129;01mand\u001b[39;00m phonenumbers\u001b[38;5;241m.\u001b[39mis_valid_number(parsed_number)\n\u001b[0;32m     24\u001b[0m         \u001b[38;5;129;01mand\u001b[39;00m phonenumbers\u001b[38;5;241m.\u001b[39mis_valid_number_for_region(parsed_number, \u001b[38;5;124m\"\u001b[39m\u001b[38;5;124mIN\u001b[39m\u001b[38;5;124m\"\u001b[39m)\n\u001b[0;32m     25\u001b[0m     ):\n\u001b[0;32m     26\u001b[0m         formatted_number \u001b[38;5;241m=\u001b[39m phonenumbers\u001b[38;5;241m.\u001b[39mformat_number(parsed_number, phonenumbers\u001b[38;5;241m.\u001b[39mPhoneNumberFormat\u001b[38;5;241m.\u001b[39mE164)\n",
      "File \u001b[1;32m~\\AppData\\Roaming\\Python\\Python311\\site-packages\\phonenumbers\\phonenumberutil.py:2936\u001b[0m, in \u001b[0;36mparse\u001b[1;34m(number, region, keep_raw_input, numobj, _check_region)\u001b[0m\n\u001b[0;32m   2933\u001b[0m national_number \u001b[38;5;241m=\u001b[39m _build_national_number_for_parsing(number)\n\u001b[0;32m   2935\u001b[0m \u001b[38;5;28;01mif\u001b[39;00m \u001b[38;5;129;01mnot\u001b[39;00m _is_viable_phone_number(national_number):\n\u001b[1;32m-> 2936\u001b[0m     \u001b[38;5;28;01mraise\u001b[39;00m NumberParseException(NumberParseException\u001b[38;5;241m.\u001b[39mNOT_A_NUMBER,\n\u001b[0;32m   2937\u001b[0m                                \u001b[38;5;124m\"\u001b[39m\u001b[38;5;124mThe string supplied did not seem to be a phone number.\u001b[39m\u001b[38;5;124m\"\u001b[39m)\n\u001b[0;32m   2939\u001b[0m \u001b[38;5;66;03m# Check the region supplied is valid, or that the extracted number starts\u001b[39;00m\n\u001b[0;32m   2940\u001b[0m \u001b[38;5;66;03m# with some sort of + sign so the number's region can be determined.\u001b[39;00m\n\u001b[0;32m   2941\u001b[0m \u001b[38;5;28;01mif\u001b[39;00m _check_region \u001b[38;5;129;01mand\u001b[39;00m \u001b[38;5;129;01mnot\u001b[39;00m _check_region_for_parsing(national_number, region):\n",
      "\u001b[1;31mNumberParseException\u001b[0m: (1) The string supplied did not seem to be a phone number."
     ]
    }
   ],
   "source": [
    "import os\n",
    "import pandas as pd\n",
    "import re\n",
    "import phonenumbers\n",
    "\n",
    "# Specify the folder containing Excel files\n",
    "excel_folder = 'E:\\\\NAAC\\\\Faculty_List'\n",
    "\n",
    "# Regular expression for matching phone numbers\n",
    "phone_number_regex = r'(\\+\\d{1,4}[-\\s]?)?\\(?\\d{1,4}\\)?[-\\s]?\\d{1,4}[-\\s]?\\d{1,9}'\n",
    "\n",
    "# Function to extract and validate Indian mobile numbers from a DataFrame\n",
    "def extract_indian_mobile_numbers(df):\n",
    "    indian_mobile_numbers = []\n",
    "    for column in df.columns:\n",
    "        for value in df[column]:\n",
    "            if isinstance(value, str):\n",
    "                matches = re.findall(phone_number_regex, value)\n",
    "                for match in matches:\n",
    "                    parsed_number = phonenumbers.parse(match, \"IN\")\n",
    "                    if (\n",
    "                        phonenumbers.is_possible_number(parsed_number)\n",
    "                        and phonenumbers.is_valid_number(parsed_number)\n",
    "                        and phonenumbers.is_valid_number_for_region(parsed_number, \"IN\")\n",
    "                    ):\n",
    "                        formatted_number = phonenumbers.format_number(parsed_number, phonenumbers.PhoneNumberFormat.E164)\n",
    "                        indian_mobile_numbers.append(formatted_number)\n",
    "    return indian_mobile_numbers\n",
    "\n",
    "# List all Excel files in the folder\n",
    "excel_files = [f for f in os.listdir(excel_folder) if f.endswith('.xlsx')]\n",
    "\n",
    "# Extract and print Indian mobile numbers from each Excel file\n",
    "for excel_file in excel_files:\n",
    "    excel_path = os.path.join(excel_folder, excel_file)\n",
    "    \n",
    "    # Read the Excel file into a DataFrame\n",
    "    try:\n",
    "        df = pd.read_excel(excel_path)\n",
    "    except pd.errors.EmptyDataError:\n",
    "        continue  # Skip empty Excel files\n",
    "    \n",
    "    indian_mobile_numbers = extract_indian_mobile_numbers(df)\n",
    "    \n",
    "    if indian_mobile_numbers:\n",
    "        print(f'Indian mobile numbers in {excel_file}:')\n",
    "        for phone_number in indian_mobile_numbers:\n",
    "            print(phone_number)\n"
   ]
  },
  {
   "cell_type": "code",
   "execution_count": null,
   "id": "864ab08f",
   "metadata": {},
   "outputs": [],
   "source": []
  }
 ],
 "metadata": {
  "kernelspec": {
   "display_name": "Python 3 (ipykernel)",
   "language": "python",
   "name": "python3"
  },
  "language_info": {
   "codemirror_mode": {
    "name": "ipython",
    "version": 3
   },
   "file_extension": ".py",
   "mimetype": "text/x-python",
   "name": "python",
   "nbconvert_exporter": "python",
   "pygments_lexer": "ipython3",
   "version": "3.11.3"
  }
 },
 "nbformat": 4,
 "nbformat_minor": 5
}
