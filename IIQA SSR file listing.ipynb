{
 "cells": [
  {
   "cell_type": "code",
   "execution_count": 6,
   "id": "ce4cb885",
   "metadata": {},
   "outputs": [],
   "source": [
    "import fitz  # PyMuPDF\n",
    "import re\n",
    "import os\n",
    "import csv\n",
    "import sys\n",
    "import json\n",
    "# Specify the folder containing the PDF files\n",
    "pdf_folder = 'E:\\\\NAAC\\\\IIQA'\n",
    "csvfile='E:\\\\NAAC\\\\NAACID.csv'\n",
    "# Regular expression for matching email addresses\n",
    "AISHE_ID = r'AISHE [A-Za-z]+\\s+:\\s+[A-Za-z]-[A-Za-z0-9]+'\n",
    "trackID=r'Institution Track ID\\s+:\\s+[A-Za-z0-9]+'\n",
    "\n",
    "trck2=r'AISHE [A-Za-z]+\\s+:\\s+[A-Za-z]-[A-Za-z0-9]+'\n",
    "file_path = \"E:\\\\NAAC\\\\iiqa_AISHE.txt\"\n",
    "mcolln =[]\n",
    "# Function to extract email addresses from a PDF file\n",
    "def extract_AISHEAPP_from_pdf(pdf_file):\n",
    "    doc = fitz.open(pdf_file)\n",
    "    text = ''\n",
    "    \n",
    "    for page_num in range(len(doc)):\n",
    "        page = doc.load_page(page_num)\n",
    "        text += page.get_text()\n",
    "\n",
    "    AISHEAPP = re.findall(AISHE_ID, text) + re.findall(trackID, text)\n",
    "    return AISHEAPP\n",
    "\n",
    "# List all PDF files in the folder\n",
    "pdf_files = []\n"
   ]
  },
  {
   "cell_type": "code",
   "execution_count": 7,
   "id": "6cdd28ca",
   "metadata": {},
   "outputs": [],
   "source": [
    "def list_files_in_folder(folder_path):\n",
    "    try:\n",
    "        files_list = []\n",
    "        for root, dirs, files in os.walk(folder_path):\n",
    "            for file in files:\n",
    "                if file.split(\".\")[1] ==\"pdf\":\n",
    "                    print(file.split(\".\")[0])\n",
    "                    file_path = os.path.join(root, file)\n",
    "                    files_list.append(file.split(\".\")[0])\n",
    "\n",
    "        return files_list\n",
    "\n",
    "    except Exception as e:\n",
    "        print(f\"Error listing files in {folder_path}: {e}\")\n",
    "        return []\n",
    "\n",
    "def save_files_list_to_text_file(files_list, output_file_path):\n",
    "    try:\n",
    "        with open(output_file_path, 'w') as file:\n",
    "            for file_path in files_list:\n",
    "                file.write(file_path + '\\n')\n",
    "        print(f\"File list saved to {output_file_path}\")\n",
    "\n",
    "    except Exception as e:\n",
    "        print(f\"Error saving file list: {e}\")\n"
   ]
  },
  {
   "cell_type": "code",
   "execution_count": 8,
   "id": "86517164",
   "metadata": {},
   "outputs": [],
   "source": [
    "for root, dirs, files in os.walk(pdf_folder):\n",
    "    for file in files:\n",
    "        if file.split(\".\")[1] ==\"pdf\":\n",
    "            file_path = os.path.join(root, file)\n",
    "            pdf_files.append(file_path)\n",
    "# Extract and print email addresses from each PDF\n",
    "for pdf_file in pdf_files:\n",
    "    pdf_path = os.path.join(pdf_folder, pdf_file)\n",
    "    AISHEAPP_ID = extract_AISHEAPP_from_pdf(pdf_path)\n",
    "    mcolln.append(AISHEAPP_ID)\n",
    "    \n",
    "    #if AISHEAPP_ID:\n",
    "    #    print(f'{pdf_file}:')\n",
    "    #    mcoll = \",\".join(AISHEAPP_ID)\n",
    "    #    for AIS_ID in AISHEAPP_ID:\n",
    "    #        print(AIS_ID)\n",
    "\n",
    "# You can also save the email addresses to a file if needed.\n",
    "#file1=open(r\"D:\\\\DOCILE\\\\dmails.txt\",\"a\")\n",
    "#file1.writelines(mcolln)\n"
   ]
  },
  {
   "cell_type": "code",
   "execution_count": 9,
   "id": "43dc424f",
   "metadata": {},
   "outputs": [],
   "source": [
    "mcolln = str(mcolln).replace(\"\\\\n\",\"\")\n",
    "mcolln = mcolln.replace(\"\\n\",\"\")\n",
    "mcolln= mcolln.replace(\"AISHE ID:\",\"\")\n",
    "mcolln= mcolln.replace(\"Institution Track ID:\",\"\")\n",
    "mcolln= mcolln.replace(\"'],\",'\\n')\n",
    "mcolln= mcolln.replace(\"'\",\"\")\n",
    "mcolln= mcolln.replace(\"[\",\"\")\n",
    "mcolln= mcolln.replace(\"\\\"[\",\"\")\n",
    "mcolln= mcolln.replace(\"]]'\",\"\")\n",
    "old_stdout = sys.stdout\n",
    "sys.stdout = open(csvfile, 'a')\n",
    "print(mcolln.rstrip())\n",
    "sys.stdout.flush()"
   ]
  },
  {
   "cell_type": "code",
   "execution_count": 10,
   "id": "6d4dab76",
   "metadata": {},
   "outputs": [],
   "source": [
    "\n",
    "# Replace this path with the folder you want to scan\n",
    "folder_to_scan = 'E:\\\\NAAC\\\\SAR'\n",
    "\n",
    "# Replace this path with the desired output text file\n",
    "output_text_file = 'E:\\\\NAAC\\\\NAACIIQASSR.txt'\n",
    "\n",
    "files_list = list_files_in_folder(folder_to_scan)\n",
    "\n",
    "save_files_list_to_text_file(files_list, output_text_file)\n"
   ]
  },
  {
   "cell_type": "code",
   "execution_count": null,
   "id": "54274ca9",
   "metadata": {},
   "outputs": [],
   "source": [
    "   "
   ]
  },
  {
   "cell_type": "code",
   "execution_count": null,
   "id": "8511d657",
   "metadata": {},
   "outputs": [],
   "source": []
  },
  {
   "cell_type": "code",
   "execution_count": null,
   "id": "000e8e8b",
   "metadata": {},
   "outputs": [],
   "source": []
  }
 ],
 "metadata": {
  "kernelspec": {
   "display_name": "Python 3 (ipykernel)",
   "language": "python",
   "name": "python3"
  },
  "language_info": {
   "codemirror_mode": {
    "name": "ipython",
    "version": 3
   },
   "file_extension": ".py",
   "mimetype": "text/x-python",
   "name": "python",
   "nbconvert_exporter": "python",
   "pygments_lexer": "ipython3",
   "version": "3.11.3"
  }
 },
 "nbformat": 4,
 "nbformat_minor": 5
}
