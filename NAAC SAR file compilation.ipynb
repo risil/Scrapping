{
 "cells": [
  {
   "cell_type": "code",
   "execution_count": 1,
   "id": "67073c2b",
   "metadata": {},
   "outputs": [
    {
     "name": "stdout",
     "output_type": "stream",
     "text": [
      "File list saved to SAR_list.txt\n"
     ]
    }
   ],
   "source": [
    "import os\n",
    "\n",
    "def list_files_in_folder(folder_path):\n",
    "    try:\n",
    "        files_list = []\n",
    "        for root, dirs, files in os.walk(folder_path):\n",
    "            for file in files:\n",
    "                file_path = os.path.join(root, file)\n",
    "                files_list.append(file_path)\n",
    "\n",
    "        return files_list\n",
    "\n",
    "    except Exception as e:\n",
    "        print(f\"Error listing files in {folder_path}: {e}\")\n",
    "        return []\n",
    "\n",
    "def save_files_list_to_text_file(files_list, output_file_path):\n",
    "    try:\n",
    "        with open(output_file_path, 'w') as file:\n",
    "            for file_path in files_list:\n",
    "                file.write(file_path + '\\n')\n",
    "        print(f\"File list saved to {output_file_path}\")\n",
    "\n",
    "    except Exception as e:\n",
    "        print(f\"Error saving file list: {e}\")\n",
    "\n",
    "# Replace this path with the folder you want to scan\n",
    "folder_to_scan = 'E:\\\\NAAC\\\\SAR'\n",
    "\n",
    "# Replace this path with the desired output text file\n",
    "output_text_file = 'SAR_list.txt'\n",
    "\n",
    "files_list = list_files_in_folder(folder_to_scan)\n",
    "save_files_list_to_text_file(files_list, output_text_file)\n"
   ]
  },
  {
   "cell_type": "code",
   "execution_count": 2,
   "id": "8af4c908",
   "metadata": {},
   "outputs": [
    {
     "ename": "SyntaxError",
     "evalue": "unexpected character after line continuation character (1489034571.py, line 1)",
     "output_type": "error",
     "traceback": [
      "\u001b[1;36m  Cell \u001b[1;32mIn[2], line 1\u001b[1;36m\u001b[0m\n\u001b[1;33m    AISHE [A-Za-z]+\\s+:\\s+[A-Za-z]-[A-Za-z0-9]+\u001b[0m\n\u001b[1;37m                    ^\u001b[0m\n\u001b[1;31mSyntaxError\u001b[0m\u001b[1;31m:\u001b[0m unexpected character after line continuation character\n"
     ]
    }
   ],
   "source": [
    "\n",
    "AISHE [A-Za-z]+\\s+:\\s+[A-Za-z]-[A-Za-z0-9]+\n"
   ]
  },
  {
   "cell_type": "code",
   "execution_count": null,
   "id": "51ed2559",
   "metadata": {},
   "outputs": [],
   "source": []
  }
 ],
 "metadata": {
  "kernelspec": {
   "display_name": "Python 3 (ipykernel)",
   "language": "python",
   "name": "python3"
  },
  "language_info": {
   "codemirror_mode": {
    "name": "ipython",
    "version": 3
   },
   "file_extension": ".py",
   "mimetype": "text/x-python",
   "name": "python",
   "nbconvert_exporter": "python",
   "pygments_lexer": "ipython3",
   "version": "3.11.3"
  }
 },
 "nbformat": 4,
 "nbformat_minor": 5
}
