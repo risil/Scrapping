{
 "cells": [
  {
   "cell_type": "code",
   "execution_count": 16,
   "id": "a0d15cc9",
   "metadata": {},
   "outputs": [
    {
     "ename": "NoSuchElementException",
     "evalue": "Message: no such element: Unable to locate element: {\"method\":\"css selector\",\"selector\":\"[id=\"//a[@id='6317']\"]\"}\n  (Session info: chrome=119.0.6045.160); For documentation on this error, please visit: https://www.selenium.dev/documentation/webdriver/troubleshooting/errors#no-such-element-exception\nStacktrace:\n\tGetHandleVerifier [0x00007FF759C182B2+55298]\n\t(No symbol) [0x00007FF759B85E02]\n\t(No symbol) [0x00007FF759A405AB]\n\t(No symbol) [0x00007FF759A8175C]\n\t(No symbol) [0x00007FF759A818DC]\n\t(No symbol) [0x00007FF759ABCBC7]\n\t(No symbol) [0x00007FF759AA20EF]\n\t(No symbol) [0x00007FF759ABAAA4]\n\t(No symbol) [0x00007FF759AA1E83]\n\t(No symbol) [0x00007FF759A7670A]\n\t(No symbol) [0x00007FF759A77964]\n\tGetHandleVerifier [0x00007FF759F90AAB+3694587]\n\tGetHandleVerifier [0x00007FF759FE728E+4048862]\n\tGetHandleVerifier [0x00007FF759FDF173+4015811]\n\tGetHandleVerifier [0x00007FF759CB47D6+695590]\n\t(No symbol) [0x00007FF759B90CE8]\n\t(No symbol) [0x00007FF759B8CF34]\n\t(No symbol) [0x00007FF759B8D062]\n\t(No symbol) [0x00007FF759B7D3A3]\n\tBaseThreadInitThunk [0x00007FF8366E257D+29]\n\tRtlUserThreadStart [0x00007FF8382EAA78+40]\n",
     "output_type": "error",
     "traceback": [
      "\u001b[1;31m---------------------------------------------------------------------------\u001b[0m",
      "\u001b[1;31mNoSuchElementException\u001b[0m                    Traceback (most recent call last)",
      "Cell \u001b[1;32mIn[16], line 47\u001b[0m\n\u001b[0;32m     44\u001b[0m scroll_down(driver)\n\u001b[0;32m     46\u001b[0m \u001b[38;5;66;03m# Click view buttons\u001b[39;00m\n\u001b[1;32m---> 47\u001b[0m click_view_buttons(driver)\n\u001b[0;32m     49\u001b[0m \u001b[38;5;66;03m# Download hyperlinks\u001b[39;00m\n\u001b[0;32m     50\u001b[0m download_hyperlinks(driver)\n",
      "Cell \u001b[1;32mIn[16], line 15\u001b[0m, in \u001b[0;36mclick_view_buttons\u001b[1;34m(driver)\u001b[0m\n\u001b[0;32m     13\u001b[0m   driver\u001b[38;5;241m.\u001b[39mmaximize_window() \u001b[38;5;66;03m# For maximizing window\u001b[39;00m\n\u001b[0;32m     14\u001b[0m   driver\u001b[38;5;241m.\u001b[39mimplicitly_wait(\u001b[38;5;241m20\u001b[39m) \u001b[38;5;66;03m# gives an implicit wait for 20 seconds\u001b[39;00m\n\u001b[1;32m---> 15\u001b[0m   xview_buttons \u001b[38;5;241m=\u001b[39m driver\u001b[38;5;241m.\u001b[39mfind_element(By\u001b[38;5;241m.\u001b[39mID, \u001b[38;5;124m\"\u001b[39m\u001b[38;5;124m//a[@id=\u001b[39m\u001b[38;5;124m'\u001b[39m\u001b[38;5;124m6317\u001b[39m\u001b[38;5;124m'\u001b[39m\u001b[38;5;124m]\u001b[39m\u001b[38;5;124m\"\u001b[39m)\n\u001b[0;32m     16\u001b[0m   \u001b[38;5;28mprint\u001b[39m(xview_buttons)\n\u001b[0;32m     17\u001b[0m       \u001b[38;5;66;03m#print('In XPATh Selector')\u001b[39;00m\n\u001b[0;32m     18\u001b[0m       \n\u001b[0;32m     19\u001b[0m \u001b[38;5;66;03m#  view_buttons = driver.find_element(By.CSS_SELECTOR,\"div > button[type='View']\")\u001b[39;00m\n\u001b[0;32m     20\u001b[0m   \n\u001b[0;32m     21\u001b[0m  \u001b[38;5;66;03m# for button in view_buttons:\u001b[39;00m\n",
      "File \u001b[1;32m~\\AppData\\Roaming\\Python\\Python311\\site-packages\\selenium\\webdriver\\remote\\webdriver.py:738\u001b[0m, in \u001b[0;36mWebDriver.find_element\u001b[1;34m(self, by, value)\u001b[0m\n\u001b[0;32m    735\u001b[0m     by \u001b[38;5;241m=\u001b[39m By\u001b[38;5;241m.\u001b[39mCSS_SELECTOR\n\u001b[0;32m    736\u001b[0m     value \u001b[38;5;241m=\u001b[39m \u001b[38;5;124mf\u001b[39m\u001b[38;5;124m'\u001b[39m\u001b[38;5;124m[name=\u001b[39m\u001b[38;5;124m\"\u001b[39m\u001b[38;5;132;01m{\u001b[39;00mvalue\u001b[38;5;132;01m}\u001b[39;00m\u001b[38;5;124m\"\u001b[39m\u001b[38;5;124m]\u001b[39m\u001b[38;5;124m'\u001b[39m\n\u001b[1;32m--> 738\u001b[0m \u001b[38;5;28;01mreturn\u001b[39;00m \u001b[38;5;28mself\u001b[39m\u001b[38;5;241m.\u001b[39mexecute(Command\u001b[38;5;241m.\u001b[39mFIND_ELEMENT, {\u001b[38;5;124m\"\u001b[39m\u001b[38;5;124musing\u001b[39m\u001b[38;5;124m\"\u001b[39m: by, \u001b[38;5;124m\"\u001b[39m\u001b[38;5;124mvalue\u001b[39m\u001b[38;5;124m\"\u001b[39m: value})[\u001b[38;5;124m\"\u001b[39m\u001b[38;5;124mvalue\u001b[39m\u001b[38;5;124m\"\u001b[39m]\n",
      "File \u001b[1;32m~\\AppData\\Roaming\\Python\\Python311\\site-packages\\selenium\\webdriver\\remote\\webdriver.py:344\u001b[0m, in \u001b[0;36mWebDriver.execute\u001b[1;34m(self, driver_command, params)\u001b[0m\n\u001b[0;32m    342\u001b[0m response \u001b[38;5;241m=\u001b[39m \u001b[38;5;28mself\u001b[39m\u001b[38;5;241m.\u001b[39mcommand_executor\u001b[38;5;241m.\u001b[39mexecute(driver_command, params)\n\u001b[0;32m    343\u001b[0m \u001b[38;5;28;01mif\u001b[39;00m response:\n\u001b[1;32m--> 344\u001b[0m     \u001b[38;5;28mself\u001b[39m\u001b[38;5;241m.\u001b[39merror_handler\u001b[38;5;241m.\u001b[39mcheck_response(response)\n\u001b[0;32m    345\u001b[0m     response[\u001b[38;5;124m\"\u001b[39m\u001b[38;5;124mvalue\u001b[39m\u001b[38;5;124m\"\u001b[39m] \u001b[38;5;241m=\u001b[39m \u001b[38;5;28mself\u001b[39m\u001b[38;5;241m.\u001b[39m_unwrap_value(response\u001b[38;5;241m.\u001b[39mget(\u001b[38;5;124m\"\u001b[39m\u001b[38;5;124mvalue\u001b[39m\u001b[38;5;124m\"\u001b[39m, \u001b[38;5;28;01mNone\u001b[39;00m))\n\u001b[0;32m    346\u001b[0m     \u001b[38;5;28;01mreturn\u001b[39;00m response\n",
      "File \u001b[1;32m~\\AppData\\Roaming\\Python\\Python311\\site-packages\\selenium\\webdriver\\remote\\errorhandler.py:229\u001b[0m, in \u001b[0;36mErrorHandler.check_response\u001b[1;34m(self, response)\u001b[0m\n\u001b[0;32m    227\u001b[0m         alert_text \u001b[38;5;241m=\u001b[39m value[\u001b[38;5;124m\"\u001b[39m\u001b[38;5;124malert\u001b[39m\u001b[38;5;124m\"\u001b[39m]\u001b[38;5;241m.\u001b[39mget(\u001b[38;5;124m\"\u001b[39m\u001b[38;5;124mtext\u001b[39m\u001b[38;5;124m\"\u001b[39m)\n\u001b[0;32m    228\u001b[0m     \u001b[38;5;28;01mraise\u001b[39;00m exception_class(message, screen, stacktrace, alert_text)  \u001b[38;5;66;03m# type: ignore[call-arg]  # mypy is not smart enough here\u001b[39;00m\n\u001b[1;32m--> 229\u001b[0m \u001b[38;5;28;01mraise\u001b[39;00m exception_class(message, screen, stacktrace)\n",
      "\u001b[1;31mNoSuchElementException\u001b[0m: Message: no such element: Unable to locate element: {\"method\":\"css selector\",\"selector\":\"[id=\"//a[@id='6317']\"]\"}\n  (Session info: chrome=119.0.6045.160); For documentation on this error, please visit: https://www.selenium.dev/documentation/webdriver/troubleshooting/errors#no-such-element-exception\nStacktrace:\n\tGetHandleVerifier [0x00007FF759C182B2+55298]\n\t(No symbol) [0x00007FF759B85E02]\n\t(No symbol) [0x00007FF759A405AB]\n\t(No symbol) [0x00007FF759A8175C]\n\t(No symbol) [0x00007FF759A818DC]\n\t(No symbol) [0x00007FF759ABCBC7]\n\t(No symbol) [0x00007FF759AA20EF]\n\t(No symbol) [0x00007FF759ABAAA4]\n\t(No symbol) [0x00007FF759AA1E83]\n\t(No symbol) [0x00007FF759A7670A]\n\t(No symbol) [0x00007FF759A77964]\n\tGetHandleVerifier [0x00007FF759F90AAB+3694587]\n\tGetHandleVerifier [0x00007FF759FE728E+4048862]\n\tGetHandleVerifier [0x00007FF759FDF173+4015811]\n\tGetHandleVerifier [0x00007FF759CB47D6+695590]\n\t(No symbol) [0x00007FF759B90CE8]\n\t(No symbol) [0x00007FF759B8CF34]\n\t(No symbol) [0x00007FF759B8D062]\n\t(No symbol) [0x00007FF759B7D3A3]\n\tBaseThreadInitThunk [0x00007FF8366E257D+29]\n\tRtlUserThreadStart [0x00007FF8382EAA78+40]\n"
     ]
    }
   ],
   "source": [
    "from selenium import webdriver\n",
    "from selenium.webdriver.common.keys import Keys\n",
    "import time\n",
    "from selenium.webdriver.common.by import By\n",
    "\n",
    "# Function to scroll the webpage\n",
    "def scroll_down(driver):\n",
    "    driver.execute_script(\"window.scrollTo(0, document.body.scrollHeight);\")\n",
    "    time.sleep(50)  # You may need to adjust the sleep duration based on your webpage\n",
    "\n",
    "# Function to find and click view buttons\n",
    "def click_view_buttons(driver):\n",
    "    driver.maximize_window() # For maximizing window\n",
    "    driver.implicitly_wait(20) # gives an implicit wait for 20 seconds\n",
    "    xview_buttons = driver.find_element(By.ID, \"//a[@id='6317']\")\n",
    "    print(xview_buttons)\n",
    "        #print('In XPATh Selector')\n",
    "        \n",
    "  #  view_buttons = driver.find_element(By.CSS_SELECTOR,\"div > button[type='View']\")\n",
    "    \n",
    "   # for button in view_buttons:\n",
    "    print('In CSS Selector')\n",
    "    xview_buttons.click()\n",
    "    time.sleep(20)  # You may need to adjust the sleep duration based on your webpage\n",
    "    scroll_down(driver)\n",
    "\n",
    "# Function to download all hyperlinks on the page\n",
    "def download_hyperlinks(driver):\n",
    "    links = driver.find_elements_by_tag_name('a')\n",
    "\n",
    "    for link in links:\n",
    "        href = link.get_attribute('href')\n",
    "        if href:\n",
    "            print(f\"Downloading: {href}\")\n",
    "            # Here you can add code to download the link or save it to a file\n",
    "\n",
    "# Set up the Selenium WebDriver (make sure to replace 'your_webdriver_path' with the path to your webdriver executable)\n",
    "driver = webdriver.Chrome()\n",
    "\n",
    "# Navigate to the webpage\n",
    "driver.get('https://assessmentonline.naac.gov.in/public/index.php/hei_dashboard')\n",
    "\n",
    "# Scroll down to load more content\n",
    "scroll_down(driver)\n",
    "\n",
    "# Click view buttons\n",
    "click_view_buttons(driver)\n",
    "\n",
    "# Download hyperlinks\n",
    "download_hyperlinks(driver)\n",
    "\n",
    "# Close the WebDriver\n",
    "driver.quit()\n",
    "\n",
    "\n",
    "\n"
   ]
  },
  {
   "cell_type": "code",
   "execution_count": null,
   "id": "4a6f5311",
   "metadata": {},
   "outputs": [],
   "source": []
  }
 ],
 "metadata": {
  "kernelspec": {
   "display_name": "Python 3 (ipykernel)",
   "language": "python",
   "name": "python3"
  },
  "language_info": {
   "codemirror_mode": {
    "name": "ipython",
    "version": 3
   },
   "file_extension": ".py",
   "mimetype": "text/x-python",
   "name": "python",
   "nbconvert_exporter": "python",
   "pygments_lexer": "ipython3",
   "version": "3.11.3"
  }
 },
 "nbformat": 4,
 "nbformat_minor": 5
}
