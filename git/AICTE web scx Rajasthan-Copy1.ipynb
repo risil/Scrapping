{
 "cells": [
  {
   "cell_type": "code",
   "execution_count": 27,
   "id": "f6394e39",
   "metadata": {},
   "outputs": [
    {
     "ename": "IndexError",
     "evalue": "list index out of range",
     "output_type": "error",
     "traceback": [
      "\u001b[1;31m---------------------------------------------------------------------------\u001b[0m",
      "\u001b[1;31mIndexError\u001b[0m                                Traceback (most recent call last)",
      "Cell \u001b[1;32mIn[27], line 32\u001b[0m\n\u001b[0;32m     29\u001b[0m \u001b[38;5;28;01mif\u001b[39;00m \u001b[38;5;129;01mnot\u001b[39;00m aicte_data\u001b[38;5;241m.\u001b[39mempty:\n\u001b[0;32m     30\u001b[0m     \u001b[38;5;66;03m# Find the index to resume fetching from\u001b[39;00m\n\u001b[0;32m     31\u001b[0m     last_list_id \u001b[38;5;241m=\u001b[39m aicte_data[\u001b[38;5;124m'\u001b[39m\u001b[38;5;124mListID\u001b[39m\u001b[38;5;124m'\u001b[39m]\u001b[38;5;241m.\u001b[39miloc[\u001b[38;5;241m-\u001b[39m\u001b[38;5;241m1\u001b[39m] \u001b[38;5;28;01mif\u001b[39;00m \u001b[38;5;129;01mnot\u001b[39;00m aicte_data\u001b[38;5;241m.\u001b[39mempty \u001b[38;5;28;01melse\u001b[39;00m list_id_data[\u001b[38;5;124m'\u001b[39m\u001b[38;5;124mListID\u001b[39m\u001b[38;5;124m'\u001b[39m]\u001b[38;5;241m.\u001b[39miloc[\u001b[38;5;241m0\u001b[39m]\n\u001b[1;32m---> 32\u001b[0m     resume_index \u001b[38;5;241m=\u001b[39m list_id_data\u001b[38;5;241m.\u001b[39mindex[list_id_data[\u001b[38;5;124m'\u001b[39m\u001b[38;5;124mListID\u001b[39m\u001b[38;5;124m'\u001b[39m] \u001b[38;5;241m==\u001b[39m last_list_id]\u001b[38;5;241m.\u001b[39mtolist()[\u001b[38;5;241m0\u001b[39m] \u001b[38;5;241m+\u001b[39m \u001b[38;5;241m1\u001b[39m\n\u001b[0;32m     35\u001b[0m ccode \u001b[38;5;241m=\u001b[39m list_id_data[\u001b[38;5;124m'\u001b[39m\u001b[38;5;124mListID\u001b[39m\u001b[38;5;124m'\u001b[39m]\u001b[38;5;241m.\u001b[39miloc[resume_index:]\n\u001b[0;32m     37\u001b[0m \u001b[38;5;28mprint\u001b[39m(ccode)\n",
      "\u001b[1;31mIndexError\u001b[0m: list index out of range"
     ]
    }
   ],
   "source": [
    "from selenium import webdriver\n",
    "from selenium.webdriver.common.keys import Keys\n",
    "import time\n",
    "from selenium.webdriver.common.by import By\n",
    "from selenium.webdriver.common.action_chains import ActionChains\n",
    "from selenium.webdriver.support.ui import WebDriverWait\n",
    "from selenium.webdriver.support import expected_conditions as EC\n",
    "import csv\n",
    "import pandas as pd\n",
    "\n",
    "df1_column_types = {\t\t\n",
    "    'ListID': str,    # Example: Integer\n",
    "    'Name': str,  # Example: Float\n",
    "    'Email': str,    # Example: String\n",
    "    'Mobile': str,   # Example: Boolean\n",
    "}\n",
    "\n",
    "aicte_file_path = 'D:\\\\DOCILE\\\\Final Mail ID collection\\\\AICTE_Raj.txt'\n",
    "try:\n",
    "    aicte_data = pd.read_csv(aicte_file_path,header=None, names=['ListID'])\n",
    "except FileNotFoundError:\n",
    "    aicte_data = pd.DataFrame()\n",
    "\n",
    "    \n",
    "list_id_file_path = 'D:\\DOCILE\\Final Mail ID collection\\ListID.csv'\n",
    "list_id_data = pd.read_csv(list_id_file_path,delim_whitespace=True, header=None, names=['ListID'])\n",
    "\n",
    "resume_index = 0\n",
    "if not aicte_data.empty:\n",
    "    # Find the index to resume fetching from\n",
    "    last_list_id = aicte_data['ListID'].iloc[-1] if not aicte_data.empty else list_id_data['ListID'].iloc[0]\n",
    "    resume_index = list_id_data.index[list_id_data['ListID'] == last_list_id].tolist()[0] + 1\n",
    "\n",
    "\n",
    "ccode = list_id_data['ListID'].iloc[resume_index:]\n",
    "\n",
    "print(ccode)\n",
    "chrome_options = webdriver.ChromeOptions()\n",
    "prefs = {'plugins.always_open_pdf_externally': True}\n",
    "chrome_options.add_experimental_option('prefs', prefs)\n",
    "\n",
    "# Create a Chrome browser instance\n",
    "driver = webdriver.Chrome(options=chrome_options)\n",
    " \n",
    "links = []\n",
    "\n",
    "# Function to scroll the webpage\n",
    "def scroll_down(driver):\n",
    "    driver.execute_script(\"window.scrollTo(0, document.body.scrollHeight);\")\n",
    "      # You may need to adjust the sleep duration based on your webpage                   \n",
    "    for i in range(0,len(ccode)): \n",
    "        try:\n",
    "            text_box = driver.find_element(By.ID, \"mat-input-7\")\n",
    "            text_box.clear()\n",
    "            #print('text box clear')\n",
    "            text_box.send_keys(ccode[i])\n",
    "            #print(ccode[i])\n",
    "            # time.sleep(5)\n",
    "            actions = ActionChains(driver)\n",
    "            target_link = driver.find_element(By.CLASS_NAME, 'mat-button-wrapper')\n",
    "            #for target_link in target_links:    \n",
    "            #print(target_link)\n",
    "            actions.move_to_element(target_link).click().perform()\n",
    "            time.sleep(3)\n",
    "            #actions.move_to_element(text_box).click().perform()\n",
    "            uname = driver.find_element(By.XPATH, '//*[@id=\"mat-input-0\"]')\n",
    "            useremail = driver.find_element(By.XPATH, '//*[@id=\"mat-input-1\"]')\n",
    "            usermob = driver.find_element(By.XPATH, '//*[@id=\"mat-input-3\"]')\n",
    "            #\n",
    "            links.append({ccode[i]+ \",\"+uname.get_attribute(\"value\")+\",\" + useremail.get_attribute(\"value\")+ \",\" + usermob.get_attribute(\"value\")})        \n",
    "            with open(aicte_file_path, 'a') as f:\n",
    "                print(ccode[i]+ \",\"+uname.get_attribute(\"value\")+\",\" + useremail.get_attribute(\"value\")+ \",\" + usermob.get_attribute(\"value\"), file=f)\n",
    "            \n",
    "                #actions.move_to_element(target_link).click().perform()\n",
    "                #time.sleep(20)  # You may need to adjust the sleep duration based on your webpage\n",
    "            \n",
    "        except Exception as e:\n",
    "            print(f\"Error: {e}\")\n",
    "\n",
    "\n",
    "# Navigate to the webpage\n",
    "driver.get('https://css.aicte-india.org/signup')\n",
    "time.sleep(50)\n",
    "# Scroll down to load more content\n",
    "scroll_down(driver)\n",
    "\n",
    "\n",
    "        \n",
    "\n",
    "\n",
    "# Close the WebDriver\n",
    "driver.quit()\n"
   ]
  },
  {
   "cell_type": "code",
   "execution_count": 48,
   "id": "a0d15cc9",
   "metadata": {},
   "outputs": [
    {
     "name": "stdout",
     "output_type": "stream",
     "text": [
      "Mbno\n"
     ]
    }
   ],
   "source": [
    "\n",
    "print(aicte_data['ListID'].iloc[0])\n",
    "\n",
    "\n",
    "\n"
   ]
  },
  {
   "cell_type": "code",
   "execution_count": 14,
   "id": "4a6f5311",
   "metadata": {},
   "outputs": [
    {
     "ename": "AttributeError",
     "evalue": "'set' object has no attribute 'keys'",
     "output_type": "error",
     "traceback": [
      "\u001b[1;31m---------------------------------------------------------------------------\u001b[0m",
      "\u001b[1;31mAttributeError\u001b[0m                            Traceback (most recent call last)",
      "Cell \u001b[1;32mIn[14], line 5\u001b[0m\n\u001b[0;32m      3\u001b[0m writer \u001b[38;5;241m=\u001b[39m csv\u001b[38;5;241m.\u001b[39mDictWriter(csv_file, fieldnames\u001b[38;5;241m=\u001b[39mfields)\n\u001b[0;32m      4\u001b[0m writer\u001b[38;5;241m.\u001b[39mwriteheader()\n\u001b[1;32m----> 5\u001b[0m writer\u001b[38;5;241m.\u001b[39mwriterows(links)\n",
      "File \u001b[1;32mC:\\ProgramData\\anaconda3\\Lib\\csv.py:157\u001b[0m, in \u001b[0;36mDictWriter.writerows\u001b[1;34m(self, rowdicts)\u001b[0m\n\u001b[0;32m    156\u001b[0m \u001b[38;5;28;01mdef\u001b[39;00m \u001b[38;5;21mwriterows\u001b[39m(\u001b[38;5;28mself\u001b[39m, rowdicts):\n\u001b[1;32m--> 157\u001b[0m     \u001b[38;5;28;01mreturn\u001b[39;00m \u001b[38;5;28mself\u001b[39m\u001b[38;5;241m.\u001b[39mwriter\u001b[38;5;241m.\u001b[39mwriterows(\u001b[38;5;28mmap\u001b[39m(\u001b[38;5;28mself\u001b[39m\u001b[38;5;241m.\u001b[39m_dict_to_list, rowdicts))\n",
      "File \u001b[1;32mC:\\ProgramData\\anaconda3\\Lib\\csv.py:147\u001b[0m, in \u001b[0;36mDictWriter._dict_to_list\u001b[1;34m(self, rowdict)\u001b[0m\n\u001b[0;32m    145\u001b[0m \u001b[38;5;28;01mdef\u001b[39;00m \u001b[38;5;21m_dict_to_list\u001b[39m(\u001b[38;5;28mself\u001b[39m, rowdict):\n\u001b[0;32m    146\u001b[0m     \u001b[38;5;28;01mif\u001b[39;00m \u001b[38;5;28mself\u001b[39m\u001b[38;5;241m.\u001b[39mextrasaction \u001b[38;5;241m==\u001b[39m \u001b[38;5;124m\"\u001b[39m\u001b[38;5;124mraise\u001b[39m\u001b[38;5;124m\"\u001b[39m:\n\u001b[1;32m--> 147\u001b[0m         wrong_fields \u001b[38;5;241m=\u001b[39m rowdict\u001b[38;5;241m.\u001b[39mkeys() \u001b[38;5;241m-\u001b[39m \u001b[38;5;28mself\u001b[39m\u001b[38;5;241m.\u001b[39mfieldnames\n\u001b[0;32m    148\u001b[0m         \u001b[38;5;28;01mif\u001b[39;00m wrong_fields:\n\u001b[0;32m    149\u001b[0m             \u001b[38;5;28;01mraise\u001b[39;00m \u001b[38;5;167;01mValueError\u001b[39;00m(\u001b[38;5;124m\"\u001b[39m\u001b[38;5;124mdict contains fields not in fieldnames: \u001b[39m\u001b[38;5;124m\"\u001b[39m\n\u001b[0;32m    150\u001b[0m                              \u001b[38;5;241m+\u001b[39m \u001b[38;5;124m\"\u001b[39m\u001b[38;5;124m, \u001b[39m\u001b[38;5;124m\"\u001b[39m\u001b[38;5;241m.\u001b[39mjoin([\u001b[38;5;28mrepr\u001b[39m(x) \u001b[38;5;28;01mfor\u001b[39;00m x \u001b[38;5;129;01min\u001b[39;00m wrong_fields]))\n",
      "\u001b[1;31mAttributeError\u001b[0m: 'set' object has no attribute 'keys'"
     ]
    }
   ],
   "source": [
    "fields = ['Names']\n",
    "with open(csv_output_path, 'w', newline='', encoding='utf-8') as csv_file:\n",
    "    writer = csv.DictWriter(csv_file, fieldnames=fields)\n",
    "    writer.writeheader()\n",
    "    writer.writerows(links)"
   ]
  },
  {
   "cell_type": "code",
   "execution_count": 18,
   "id": "66a591cb",
   "metadata": {},
   "outputs": [],
   "source": [
    "with open('AICTE_Faculty_list.txt', 'w') as f:\n",
    "    \n",
    "    for items in links:\n",
    "        f.write('%s\\n' %items)\n",
    "        \n",
    "f.close()"
   ]
  },
  {
   "cell_type": "code",
   "execution_count": 17,
   "id": "fa9008ca",
   "metadata": {},
   "outputs": [],
   "source": []
  },
  {
   "cell_type": "code",
   "execution_count": null,
   "id": "22c9eff0",
   "metadata": {},
   "outputs": [],
   "source": []
  }
 ],
 "metadata": {
  "kernelspec": {
   "display_name": "Python 3 (ipykernel)",
   "language": "python",
   "name": "python3"
  },
  "language_info": {
   "codemirror_mode": {
    "name": "ipython",
    "version": 3
   },
   "file_extension": ".py",
   "mimetype": "text/x-python",
   "name": "python",
   "nbconvert_exporter": "python",
   "pygments_lexer": "ipython3",
   "version": "3.11.3"
  }
 },
 "nbformat": 4,
 "nbformat_minor": 5
}
