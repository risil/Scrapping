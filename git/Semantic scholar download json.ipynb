{
 "cells": [
  {
   "cell_type": "code",
   "execution_count": 1,
   "id": "1c39e8b0",
   "metadata": {},
   "outputs": [],
   "source": [
    "import requests\n",
    "import json"
   ]
  },
  {
   "cell_type": "code",
   "execution_count": 2,
   "id": "5ce9ebf6",
   "metadata": {},
   "outputs": [
    {
     "name": "stdout",
     "output_type": "stream",
     "text": [
      "['2023-11-07', '2023-11-14', '2023-11-21']\n"
     ]
    }
   ],
   "source": [
    "r1 = requests.get('https://api.semanticscholar.org/datasets/v1/release').json()\n",
    "print(r1[-3:])\n"
   ]
  },
  {
   "cell_type": "code",
   "execution_count": 3,
   "id": "06596578",
   "metadata": {},
   "outputs": [
    {
     "name": "stdout",
     "output_type": "stream",
     "text": [
      "2023-11-21\n"
     ]
    }
   ],
   "source": [
    "r2 = requests.get('https://api.semanticscholar.org/datasets/v1/release/latest').json()\n",
    "print(r2['release_id'])"
   ]
  },
  {
   "cell_type": "code",
   "execution_count": 5,
   "id": "8175e631",
   "metadata": {},
   "outputs": [
    {
     "name": "stdout",
     "output_type": "stream",
     "text": [
      "Semantic Scholar Academic Graph Datasets\n",
      "\n",
      "These datasets provide a variety of information about research papers taken from a snapshot in time of the Semantic Scholar corpus.\n",
      "\n",
      "This site is provided by The Allen Institute for Artificial Intelligence (“AI2”) as a service to the\n",
      "research community. The site is covered by AI2 Terms of Use and Privacy Policy. AI2 does not claim\n",
      "ownership of any materials on this site unless specifically identified. AI2 does not exercise editorial\n",
      "control over the contents of this site. AI2 respects the intellectual property rights of others. If\n",
      "you believe your copyright or trademark is being infringed by something on this site, please follow\n",
      "the \"DMCA Notice\" process set out in the Terms of Use (https://allenai.org/terms).\n",
      "\n",
      "SAMPLE DATA ACCESS\n",
      "Sample data files can be downloaded with the following UNIX command:\n",
      "\n",
      "for f in $(curl https://s3-us-west-2.amazonaws.com/ai2-s2ag/samples/MANIFEST.txt)\n",
      "  do curl --create-dirs \"https://s3-us-west-2.amazonaws.com/ai2-s2ag/$f\" -o $f\n",
      "done\n",
      "\n",
      "See the \"s2ag.py\" file for Python code that downloads and parses the data.\n",
      "\n",
      "FULL DATA ACCESS\n",
      "Downloading the full data requires an API key, which can be obtained at https://www.semanticscholar.org/product/api#Partner-Form\n",
      "For access to the full datasets, see https://api.semanticscholar.org/api-docs/datasets.\n",
      "\n",
      "LICENSE and ATTRIBUTION\n",
      "\n",
      "See the README files for each dataset for information about licensing and attribution.\n",
      "2023-11-21\n",
      "abstracts\n",
      "authors\n",
      "citations\n",
      "embeddings-specter_v1\n",
      "embeddings-specter_v2\n",
      "paper-ids\n",
      "papers\n",
      "publication-venues\n",
      "s2orc\n",
      "tldrs\n",
      "Semantic Scholar Academic Graph Datasets\n",
      "\n",
      "The \"citations\" dataset provides details about one paper's citation of another paper.\n",
      "\n",
      "SCHEMA\n",
      " - isinfluential: true/false if the citation is considered influential. https://www.semanticscholar.org/faq#influential-citations\n",
      " - contexts: Text surrounding the citation in the source paper's body.\n",
      " - intents: Classification of the intent behind the citations. https://www.semanticscholar.org/faq#citation-intent\n",
      "\n",
      "LICENSE\n",
      "This collection is licensed under ODC-BY. (https://opendatacommons.org/licenses/by/1.0/)\n",
      "\n",
      "By downloading this data you acknowledge that you have read and agreed to all the terms in this license.\n",
      "\n",
      "ATTRIBUTION\n",
      "When using this data in a product or service, or including data in a redistribution, please cite the following paper:\n",
      "\n",
      "BibTex format:\n",
      "@misc{https://doi.org/10.48550/arxiv.2301.10140,\n",
      "  title = {The Semantic Scholar Open Data Platform},\n",
      "  author = {Kinney, Rodney and Anastasiades, Chloe and Authur, Russell and Beltagy, Iz and Bragg, Jonathan and Buraczynski, Alexandra and Cachola, Isabel and Candra, Stefan and Chandrasekhar, Yoganand and Cohan, Arman and Crawford, Miles and Downey, Doug and Dunkelberger, Jason and Etzioni, Oren and Evans, Rob and Feldman, Sergey and Gorney, Joseph and Graham, David and Hu, Fangzhou and Huff, Regan and King, Daniel and Kohlmeier, Sebastian and Kuehl, Bailey and Langan, Michael and Lin, Daniel and Liu, Haokun and Lo, Kyle and Lochner, Jaron and MacMillan, Kelsey and Murray, Tyler and Newell, Chris and Rao, Smita and Rohatgi, Shaurya and Sayre, Paul and Shen, Zejiang and Singh, Amanpreet and Soldaini, Luca and Subramanian, Shivashankar and Tanaka, Amber and Wade, Alex D. and Wagner, Linda and Wang, Lucy Lu and Wilhelm, Chris and Wu, Caroline and Yang, Jiangjiang and Zamarron, Angele and Van Zuylen, Madeleine and Weld, Daniel S.},\n",
      "  publisher = {arXiv},\n",
      "  year = {2023},\n",
      "  doi = {10.48550/ARXIV.2301.10140},\n",
      "  url = {https://arxiv.org/abs/2301.10140},\n",
      "}\n",
      "\n",
      "@inproceedings{cohan-etal-2019-structural,\n",
      "    title = \"Structural Scaffolds for Citation Intent Classification in Scientific Publications\",\n",
      "    author = \"Cohan, Arman  and\n",
      "      Ammar, Waleed  and\n",
      "      van Zuylen, Madeleine  and\n",
      "      Cady, Field\",\n",
      "    booktitle = \"NAACL\",\n",
      "    year = \"2019\",\n",
      "    url = \"https://aclanthology.org/N19-1361\",\n",
      "    doi = \"10.18653/v1/N19-1361\"\n",
      "}\n"
     ]
    },
    {
     "ename": "KeyError",
     "evalue": "'files'",
     "output_type": "error",
     "traceback": [
      "\u001b[1;31m---------------------------------------------------------------------------\u001b[0m",
      "\u001b[1;31mKeyError\u001b[0m                                  Traceback (most recent call last)",
      "Cell \u001b[1;32mIn[5], line 29\u001b[0m\n\u001b[0;32m     26\u001b[0m papers \u001b[38;5;241m=\u001b[39m requests\u001b[38;5;241m.\u001b[39mget(\u001b[38;5;124m\"\u001b[39m\u001b[38;5;124mhttp://api.semanticscholar.org/datasets/v1/release/latest/dataset/papers\u001b[39m\u001b[38;5;124m\"\u001b[39m,headers\u001b[38;5;241m=\u001b[39m{\u001b[38;5;124m'\u001b[39m\u001b[38;5;124mx-api-key\u001b[39m\u001b[38;5;124m'\u001b[39m:os\u001b[38;5;241m.\u001b[39mgetenv(\u001b[38;5;124m\"\u001b[39m\u001b[38;5;124mYu9qEUobS1atKPoBHMe1z6dL34k37uoakVx6Tuc0\u001b[39m\u001b[38;5;124m\"\u001b[39m)})\u001b[38;5;241m.\u001b[39mjson()\n\u001b[0;32m     28\u001b[0m \u001b[38;5;66;03m# Download the dataset\u001b[39;00m\n\u001b[1;32m---> 29\u001b[0m urllib\u001b[38;5;241m.\u001b[39mrequest\u001b[38;5;241m.\u001b[39murlretrieve(papers[\u001b[38;5;124m'\u001b[39m\u001b[38;5;124mfiles\u001b[39m\u001b[38;5;124m'\u001b[39m][\u001b[38;5;241m0\u001b[39m], \u001b[38;5;124m\"\u001b[39m\u001b[38;5;124mpapers-part0.jsonl.gz\u001b[39m\u001b[38;5;124m\"\u001b[39m)\n\u001b[0;32m     31\u001b[0m \u001b[38;5;66;03m# # # # # # # # # # # # # # # # # # # # # # # # # # # # # # # # \u001b[39;00m\n\u001b[0;32m     32\u001b[0m \u001b[38;5;66;03m# Explore datasets\u001b[39;00m\n\u001b[0;32m     33\u001b[0m \u001b[38;5;66;03m# # # # # # # # # # # # # # # # # # # # # # # # # # # # # # # #\u001b[39;00m\n\u001b[0;32m     34\u001b[0m \n\u001b[0;32m     35\u001b[0m \u001b[38;5;66;03m## Papers\u001b[39;00m\n\u001b[0;32m     36\u001b[0m papers \u001b[38;5;241m=\u001b[39m [json\u001b[38;5;241m.\u001b[39mloads(l) \u001b[38;5;28;01mfor\u001b[39;00m l \u001b[38;5;129;01min\u001b[39;00m \u001b[38;5;28mopen\u001b[39m(\u001b[38;5;124m\"\u001b[39m\u001b[38;5;124mpapers/papers-sample.jsonl\u001b[39m\u001b[38;5;124m\"\u001b[39m,\u001b[38;5;124m\"\u001b[39m\u001b[38;5;124mr\u001b[39m\u001b[38;5;124m\"\u001b[39m)\u001b[38;5;241m.\u001b[39mreadlines()]\n",
      "\u001b[1;31mKeyError\u001b[0m: 'files'"
     ]
    }
   ],
   "source": [
    "\"\"\"\n",
    "Sample usage of Semantic Scholar Academic Graph Datasets API\n",
    "https://api.semanticscholar.org/api-docs/datasets\n",
    "\"\"\"\n",
    "import requests\n",
    "import urllib\n",
    "import json\n",
    "import os\n",
    "\n",
    "# Get info about the latest release\n",
    "latest_release = requests.get(\"http://api.semanticscholar.org/datasets/v1/release/latest\").json()\n",
    "print(latest_release['README'])\n",
    "print(latest_release['release_id'])\n",
    "\n",
    "# Get info about past releases\n",
    "dataset_ids = requests.get(\"http://api.semanticscholar.org/datasets/v1/release\").json()\n",
    "earliest_release = requests.get(f\"http://api.semanticscholar.org/datasets/v1/release/{dataset_ids[0]}\").json()\n",
    "\n",
    "# Print names of datasets in the release\n",
    "print(\"\\n\".join(d['name'] for d in latest_release['datasets']))\n",
    "\n",
    "# Print README for one of the datasets\n",
    "print(latest_release['datasets'][2]['README'])\n",
    "\n",
    "# Get info about the papers dataset\n",
    "papers = requests.get(\"http://api.semanticscholar.org/datasets/v1/release/latest/dataset/papers\",headers={'x-api-key':os.getenv(\"Yu9qEUobS1atKPoBHMe1z6dL34k37uoakVx6Tuc0\")}).json()\n",
    "\n",
    "# Download the dataset\n",
    "urllib.request.urlretrieve(papers['files'][0], \"papers-part0.jsonl.gz\")\n",
    "\n",
    "# # # # # # # # # # # # # # # # # # # # # # # # # # # # # # # # \n",
    "# Explore datasets\n",
    "# # # # # # # # # # # # # # # # # # # # # # # # # # # # # # # #\n",
    "\n",
    "## Papers\n",
    "papers = [json.loads(l) for l in open(\"papers/papers-sample.jsonl\",\"r\").readlines()]\n",
    "\n",
    "## Citations\n",
    "citations = [json.loads(l) for l in open(\"citations/citations-sample.jsonl\",\"r\").readlines()]\n",
    "\n",
    "## Embeddings\n",
    "embeddings = [json.loads(l) for l in open(\"embeddings-specter_v2/embeddings-specter_v2-sample.jsonl\",\"r\").readlines()]\n",
    "\n",
    "## S2ORC\n",
    "docs = [json.loads(l) for l in open(\"s2orc/s2orc-sample.jsonl\",\"r\").readlines()]\n",
    "text = docs[0]['content']['text']\n",
    "annotations = {k:json.loads(v) for k,v in docs[0]['content']['annotations'].items() if v}\n",
    "\n",
    "for a in annotations['paragraph'][:10]: print(a)\n",
    "for a in annotations['bibref'][:10]: print(a)\n",
    "for a in annotations['bibentry'][:10]: print(a)\n",
    "\n",
    "def text_of(type):\n",
    "  return [text[a['start']:a['end']] for a in annotations[type]]\n",
    "\n",
    "text_of('abstract')\n",
    "\n",
    "print('\\n\\n'.join(text_of('paragraph')[:3]))\n",
    "\n",
    "print('\\n'.join(text_of('bibref')[:10]))\n"
   ]
  },
  {
   "cell_type": "code",
   "execution_count": null,
   "id": "610a456d",
   "metadata": {},
   "outputs": [],
   "source": []
  },
  {
   "cell_type": "code",
   "execution_count": 6,
   "id": "17b979b5",
   "metadata": {},
   "outputs": [
    {
     "ename": "NameError",
     "evalue": "name 'json' is not defined",
     "output_type": "error",
     "traceback": [
      "\u001b[1;31m---------------------------------------------------------------------------\u001b[0m",
      "\u001b[1;31mNameError\u001b[0m                                 Traceback (most recent call last)",
      "Cell \u001b[1;32mIn[6], line 1\u001b[0m\n\u001b[1;32m----> 1\u001b[0m \u001b[38;5;28mprint\u001b[39m(json\u001b[38;5;241m.\u001b[39mdumps(r2[\u001b[38;5;124m'\u001b[39m\u001b[38;5;124mdatasets\u001b[39m\u001b[38;5;124m'\u001b[39m][\u001b[38;5;241m0\u001b[39m], indent\u001b[38;5;241m=\u001b[39m\u001b[38;5;241m2\u001b[39m))\n",
      "\u001b[1;31mNameError\u001b[0m: name 'json' is not defined"
     ]
    }
   ],
   "source": [
    "print(json.dumps(r2['datasets'][0], indent=2))"
   ]
  },
  {
   "cell_type": "code",
   "execution_count": 21,
   "id": "4417c59c",
   "metadata": {},
   "outputs": [
    {
     "name": "stdout",
     "output_type": "stream",
     "text": [
      "{\n",
      "  \"error\": \"A valid API key is required\"\n",
      "}\n"
     ]
    }
   ],
   "source": [
    "r3 = requests.get('https://api.semanticscholar.org/datasets/v1/release/latest/dataset/papers').json()\n",
    "print(json.dumps(r3, indent=2))"
   ]
  },
  {
   "cell_type": "code",
   "execution_count": null,
   "id": "cd5cf243",
   "metadata": {},
   "outputs": [],
   "source": [
    "\n",
    "{\n",
    "    \"name\": \"abstracts\",\n",
    "    \"description\": \"Paper abstract text, where available. 100M records in 30 1.8GB files.\",\n",
    "    \"README\": \"Semantic Scholar Academic Graph Datasets The \"abstracts\" dataset provides...\"\n",
    "}\n",
    "\n",
    "r3 = requests.get('https://api.semanticscholar.org/datasets/v1/release/latest/dataset/abstracts').json()\n",
    "print(json.dumps(r3, indent=2))\n",
    "{\n",
    "  \"name\": \"abstracts\",\n",
    "  \"description\": \"Paper abstract text, where available. 100M records in 30 1.8GB files.\",\n",
    "  \"README\": \"Semantic Scholar Academic Graph Datasets The \"abstracts\" dataset provides...\",\n",
    "  \"files\": [\n",
    "    \"https://ai2-s2ag.s3.amazonaws.com/dev/staging/2023-03-28/abstracts/20230331_0...\"\n",
    "  ]\n",
    "}"
   ]
  },
  {
   "cell_type": "code",
   "execution_count": null,
   "id": "f1315cdc",
   "metadata": {},
   "outputs": [],
   "source": [
    "r4 = requests.get('https://api.semanticscholar.org/datasets/v1/release/{'2023-09-26'}/dataset/{dataset_name}').json'"
   ]
  },
  {
   "cell_type": "code",
   "execution_count": 6,
   "id": "b87f173d",
   "metadata": {},
   "outputs": [
    {
     "ename": "NameError",
     "evalue": "name 'git' is not defined",
     "output_type": "error",
     "traceback": [
      "\u001b[1;31m---------------------------------------------------------------------------\u001b[0m",
      "\u001b[1;31mNameError\u001b[0m                                 Traceback (most recent call last)",
      "Cell \u001b[1;32mIn[6], line 1\u001b[0m\n\u001b[1;32m----> 1\u001b[0m git\u001b[38;5;241m.\u001b[39mclone(\u001b[38;5;124m'\u001b[39m\u001b[38;5;124mhttps://github.com/allenai/s2-folks/tree/main/examples/python\u001b[39m\u001b[38;5;124m'\u001b[39m)\n",
      "\u001b[1;31mNameError\u001b[0m: name 'git' is not defined"
     ]
    }
   ],
   "source": [
    "git.clone('https://github.com/allenai/s2-folks/tree/main/examples/python')"
   ]
  },
  {
   "cell_type": "code",
   "execution_count": null,
   "id": "f6b3a6ed",
   "metadata": {},
   "outputs": [],
   "source": []
  }
 ],
 "metadata": {
  "kernelspec": {
   "display_name": "Python 3 (ipykernel)",
   "language": "python",
   "name": "python3"
  },
  "language_info": {
   "codemirror_mode": {
    "name": "ipython",
    "version": 3
   },
   "file_extension": ".py",
   "mimetype": "text/x-python",
   "name": "python",
   "nbconvert_exporter": "python",
   "pygments_lexer": "ipython3",
   "version": "3.11.3"
  }
 },
 "nbformat": 4,
 "nbformat_minor": 5
}
