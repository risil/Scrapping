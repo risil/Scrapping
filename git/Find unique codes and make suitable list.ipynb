{
 "cells": [
  {
   "cell_type": "code",
   "execution_count": 6,
   "id": "78fb3a37",
   "metadata": {},
   "outputs": [
    {
     "name": "stdout",
     "output_type": "stream",
     "text": [
      "\"pass\", \"1.3.3\", \"Peer\", \"1.2.1\", \"1.2.2\", \"Innovative\", \"Collaborative\", \"interactions\", \"abled).\", \"counselling\", \"practices\", \"Average\", \"Industry-Academia\", \"2.1.2\", \"Multilingual\", \"Save\", \"feedback\", \"1.1.3\", \"Grants\", \"Tutoring\", \"Academic\", \"Rights\", \"Devices\", \"percentage\", \"workshops\", \"research\", \"Intellectual\", \"notified\", \"2.1.1\", \"enhancement\", \"Tournament\", \"Mentoring\", \"UGC\", \"Remedial\", \"Learning\", \"Certificate\", \"enrichment\", \"Structures\", \"money\", \"child\", \"courses\", \"3.3.3,\", \"seminars\", \"Property\", \"3.2.2\", \"Journals\", \"projects\", \"2.6.3\", \"3.3.5\", \"conducted\", \"learning\", \"on\", \"Games\", \"inputs\", \"Debate\", \"1.3.2\", \"differently\", \"Adaptive\", \",\", \"Compitition\", \"Seed\", \"Race\", \"certificate\", \"Raily\", \"engagement\", \"girl\", \"Courses\", \"Right\", \"Assistive\", \"tasks\"\n"
     ]
    }
   ],
   "source": [
    "def get_unique_words(file_path):\n",
    "    unique_words = set()\n",
    "\n",
    "    try:\n",
    "        with open(file_path, 'r', encoding='utf-8') as file:\n",
    "            for line in file:\n",
    "                words = line.split()\n",
    "                unique_words.update(words)\n",
    "    except FileNotFoundError:\n",
    "        print(f\"Error: File '{file_path}' not found.\")\n",
    "    except Exception as e:\n",
    "        print(f\"Error reading file '{file_path}': {e}\")\n",
    "\n",
    "    return ', '.join(f'\"{word}\"' for word in unique_words)\n",
    "\n",
    "if __name__ == \"__main__\":\n",
    "    file_path = \"C:\\\\aria\\\\finduniq.txt\"\n",
    "\n",
    "    unique_words_str = get_unique_words(file_path)\n",
    "\n",
    "    if unique_words_str:\n",
    "        print(unique_words_str)\n",
    "    else:\n",
    "        print(\"No unique words found.\")\n"
   ]
  },
  {
   "cell_type": "code",
   "execution_count": null,
   "id": "b5415a01",
   "metadata": {},
   "outputs": [],
   "source": []
  }
 ],
 "metadata": {
  "kernelspec": {
   "display_name": "Python 3 (ipykernel)",
   "language": "python",
   "name": "python3"
  },
  "language_info": {
   "codemirror_mode": {
    "name": "ipython",
    "version": 3
   },
   "file_extension": ".py",
   "mimetype": "text/x-python",
   "name": "python",
   "nbconvert_exporter": "python",
   "pygments_lexer": "ipython3",
   "version": "3.11.3"
  }
 },
 "nbformat": 4,
 "nbformat_minor": 5
}
