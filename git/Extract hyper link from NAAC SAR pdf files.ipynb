{
 "cells": [
  {
   "cell_type": "code",
   "execution_count": 1,
   "id": "a4a468dc",
   "metadata": {},
   "outputs": [
    {
     "ename": "AttributeError",
     "evalue": "'NoneType' object has no attribute 'get'",
     "output_type": "error",
     "traceback": [
      "\u001b[1;31m---------------------------------------------------------------------------\u001b[0m",
      "\u001b[1;31mAttributeError\u001b[0m                            Traceback (most recent call last)",
      "Cell \u001b[1;32mIn[1], line 39\u001b[0m\n\u001b[0;32m     37\u001b[0m pdf_file_path \u001b[38;5;241m=\u001b[39m os\u001b[38;5;241m.\u001b[39mpath\u001b[38;5;241m.\u001b[39mjoin(pdf_folder, pdf_file)\n\u001b[0;32m     38\u001b[0m csv_output_path \u001b[38;5;241m=\u001b[39m pdf_file \u001b[38;5;241m+\u001b[39m\u001b[38;5;124m'\u001b[39m\u001b[38;5;124m.csv\u001b[39m\u001b[38;5;124m'\u001b[39m\n\u001b[1;32m---> 39\u001b[0m extract_links_from_pdf(pdf_file_path, csv_output_path)\n",
      "Cell \u001b[1;32mIn[1], line 21\u001b[0m, in \u001b[0;36mextract_links_from_pdf\u001b[1;34m(pdf_path, csv_output_path)\u001b[0m\n\u001b[0;32m     18\u001b[0m subtype \u001b[38;5;241m=\u001b[39m annotation_object\u001b[38;5;241m.\u001b[39mget(\u001b[38;5;124m'\u001b[39m\u001b[38;5;124m/Subtype\u001b[39m\u001b[38;5;124m'\u001b[39m)\n\u001b[0;32m     20\u001b[0m \u001b[38;5;28;01mif\u001b[39;00m subtype \u001b[38;5;241m==\u001b[39m \u001b[38;5;124m'\u001b[39m\u001b[38;5;124m/Link\u001b[39m\u001b[38;5;124m'\u001b[39m:\n\u001b[1;32m---> 21\u001b[0m     url \u001b[38;5;241m=\u001b[39m annotation_object\u001b[38;5;241m.\u001b[39mget(\u001b[38;5;124m'\u001b[39m\u001b[38;5;124m/A\u001b[39m\u001b[38;5;124m'\u001b[39m)\u001b[38;5;241m.\u001b[39mget(\u001b[38;5;124m'\u001b[39m\u001b[38;5;124m/URI\u001b[39m\u001b[38;5;124m'\u001b[39m)\n\u001b[0;32m     22\u001b[0m     \u001b[38;5;28;01mif\u001b[39;00m url:\n\u001b[0;32m     23\u001b[0m         links\u001b[38;5;241m.\u001b[39mappend({\u001b[38;5;124m'\u001b[39m\u001b[38;5;124mPage\u001b[39m\u001b[38;5;124m'\u001b[39m: page_num \u001b[38;5;241m+\u001b[39m \u001b[38;5;241m1\u001b[39m, \u001b[38;5;124m'\u001b[39m\u001b[38;5;124mURL\u001b[39m\u001b[38;5;124m'\u001b[39m: url})\n",
      "\u001b[1;31mAttributeError\u001b[0m: 'NoneType' object has no attribute 'get'"
     ]
    }
   ],
   "source": [
    "import PyPDF2\n",
    "import csv\n",
    "import os\n",
    "\n",
    "def extract_links_from_pdf(pdf_path, csv_output_path):\n",
    "    links = []\n",
    "\n",
    "    with open(pdf_path, 'rb') as file:\n",
    "        pdf_reader = PyPDF2.PdfReader(file)\n",
    "\n",
    "        for page_num in range(len(pdf_reader.pages)):\n",
    "            page = pdf_reader.pages[page_num]\n",
    "            annotations = page.get('/Annots')\n",
    "\n",
    "            if annotations:\n",
    "                for annot in annotations:\n",
    "                    annotation_object = annot.get_object()\n",
    "                    subtype = annotation_object.get('/Subtype')\n",
    "\n",
    "                    if subtype == '/Link':\n",
    "                        url = annotation_object.get('/A').get('/URI')\n",
    "                        if url:\n",
    "                            links.append({'Page': page_num + 1, 'URL': url})\n",
    "\n",
    "    # Save links to CSV file\n",
    "    fields = ['Page', 'URL']\n",
    "    with open(csv_output_path, 'w', newline='', encoding='utf-8') as csv_file:\n",
    "        writer = csv.DictWriter(csv_file, fieldnames=fields)\n",
    "        writer.writeheader()\n",
    "        writer.writerows(links)\n",
    "\n",
    "# Example usage\n",
    "pdf_folder = 'E:\\\\NAAC\\\\SAR\\\\'\n",
    "csv_output_path = 'NAAC_SSRlinks.csv'\n",
    "pdf_file_path = [f for f in os.listdir(pdf_folder) if f.endswith('.pdf')]\n",
    "for pdf_file in pdf_file_path:\n",
    "    pdf_file_path = os.path.join(pdf_folder, pdf_file)\n",
    "    csv_output_path = pdf_file +'.csv'\n",
    "    extract_links_from_pdf(pdf_file_path, csv_output_path)\n",
    "\n",
    "\n",
    "\n"
   ]
  },
  {
   "cell_type": "code",
   "execution_count": 2,
   "id": "254c48dd",
   "metadata": {},
   "outputs": [],
   "source": [
    "import fitz  # PyMuPDF\n",
    "\n",
    "def extract_links_from_pdf(pdf_path):\n",
    "    doc = fitz.open(pdf_path)\n",
    "\n",
    "    for page_num in range(doc.page_count):\n",
    "        page = doc[page_num]\n",
    "        links = page.get_links()\n",
    "\n",
    "        for link in links:\n",
    "            url = link.get('url')\n",
    "            if url:\n",
    "                print(f\"Page {page_num + 1}: {url}\")\n",
    "\n",
    "    doc.close()\n",
    "\n",
    "# Example usage\n",
    "pdf_file_path = 'E:\\\\NAAC\\\\SAR\\\\GJCOGN10140.pdf'\n",
    "extract_links_from_pdf(pdf_file_path)\n"
   ]
  },
  {
   "cell_type": "code",
   "execution_count": 11,
   "id": "48a4a689",
   "metadata": {},
   "outputs": [
    {
     "name": "stdout",
     "output_type": "stream",
     "text": [
      "Page 9: http://www.spefdeesacolleges.org\n"
     ]
    },
    {
     "ename": "UnboundLocalError",
     "evalue": "cannot access local variable 'link' where it is not associated with a value",
     "output_type": "error",
     "traceback": [
      "\u001b[1;31m---------------------------------------------------------------------------\u001b[0m",
      "\u001b[1;31mUnboundLocalError\u001b[0m                         Traceback (most recent call last)",
      "Cell \u001b[1;32mIn[11], line 31\u001b[0m\n\u001b[0;32m     29\u001b[0m \u001b[38;5;28;01mfor\u001b[39;00m pdf_file \u001b[38;5;129;01min\u001b[39;00m pdf_file_path:\n\u001b[0;32m     30\u001b[0m     pdf_file_path \u001b[38;5;241m=\u001b[39m os\u001b[38;5;241m.\u001b[39mpath\u001b[38;5;241m.\u001b[39mjoin(pdf_folder, pdf_file)\n\u001b[1;32m---> 31\u001b[0m     extract_links_from_pdf(pdf_file_path)\n",
      "Cell \u001b[1;32mIn[11], line 23\u001b[0m, in \u001b[0;36mextract_links_from_pdf\u001b[1;34m(pdf_path)\u001b[0m\n\u001b[0;32m     21\u001b[0m \u001b[38;5;28;01mif\u001b[39;00m url:\n\u001b[0;32m     22\u001b[0m     \u001b[38;5;28mprint\u001b[39m(\u001b[38;5;124mf\u001b[39m\u001b[38;5;124m\"\u001b[39m\u001b[38;5;124mPage \u001b[39m\u001b[38;5;132;01m{\u001b[39;00mpage_num\u001b[38;5;250m \u001b[39m\u001b[38;5;241m+\u001b[39m\u001b[38;5;250m \u001b[39m\u001b[38;5;241m1\u001b[39m\u001b[38;5;132;01m}\u001b[39;00m\u001b[38;5;124m: \u001b[39m\u001b[38;5;132;01m{\u001b[39;00murl\u001b[38;5;132;01m}\u001b[39;00m\u001b[38;5;124m\"\u001b[39m)\n\u001b[1;32m---> 23\u001b[0m     link\u001b[38;5;241m+\u001b[39m\u001b[38;5;241m=\u001b[39m{url}\n",
      "\u001b[1;31mUnboundLocalError\u001b[0m: cannot access local variable 'link' where it is not associated with a value"
     ]
    }
   ],
   "source": [
    "import PyPDF2\n",
    "import os\n",
    "\n",
    "link =[]\n",
    "\n",
    "def extract_links_from_pdf(pdf_path):\n",
    "    with open(pdf_path, 'rb') as file:\n",
    "        pdf_reader = PyPDF2.PdfReader(file)\n",
    "\n",
    "        for page_num in range(len(pdf_reader.pages)):\n",
    "            page = pdf_reader.pages[page_num]\n",
    "            annotations = page.get('/Annots')\n",
    "\n",
    "            if annotations:\n",
    "                for annot in annotations:\n",
    "                    annotation_object = annot.get_object()\n",
    "                    subtype = annotation_object.get('/Subtype')\n",
    "\n",
    "                    if subtype == '/Link':\n",
    "                        url = annotation_object.get('/A').get('/URI')\n",
    "                        if url:\n",
    "                            print(f\"Page {page_num + 1}: {url}\")\n",
    "                            \n",
    "\n",
    "# Example usage\n",
    "pdf_folder = 'E:\\\\NAAC\\\\SAR\\\\'\n",
    "\n",
    "pdf_file_path = [f for f in os.listdir(pdf_folder) if f.endswith('.pdf')]\n",
    "for pdf_file in pdf_file_path:\n",
    "    pdf_file_path = os.path.join(pdf_folder, pdf_file)\n",
    "    extract_links_from_pdf(pdf_file_path)\n"
   ]
  },
  {
   "cell_type": "code",
   "execution_count": null,
   "id": "9374e7aa",
   "metadata": {},
   "outputs": [],
   "source": []
  }
 ],
 "metadata": {
  "kernelspec": {
   "display_name": "Python 3 (ipykernel)",
   "language": "python",
   "name": "python3"
  },
  "language_info": {
   "codemirror_mode": {
    "name": "ipython",
    "version": 3
   },
   "file_extension": ".py",
   "mimetype": "text/x-python",
   "name": "python",
   "nbconvert_exporter": "python",
   "pygments_lexer": "ipython3",
   "version": "3.11.3"
  }
 },
 "nbformat": 4,
 "nbformat_minor": 5
}
