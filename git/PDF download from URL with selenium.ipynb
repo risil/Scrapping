{
 "cells": [
  {
   "cell_type": "code",
   "execution_count": 2,
   "id": "9d1eceae",
   "metadata": {},
   "outputs": [],
   "source": [
    "from selenium import webdriver\n",
    "from selenium.webdriver.common.keys import Keys\n",
    "from webdriver_manager.chrome import ChromeDriverManager\n",
    "from selenium.webdriver.chrome.service import Service as ChromeService\n",
    "from selenium.webdriver.common.by import By\n",
    "import time\n",
    "import requests\n",
    "from bs4 import BeautifulSoup\n",
    "import csv\n",
    "import sys\n",
    "# URL of the webpage to extract URLs from\n",
    "urls = [\n",
    "    'https://ietresearch.onlinelibrary.wiley.com/doi/pdfdirect/10.1049/csy2.12087?download=true',\n",
    "\n",
    "    # Add more URLs as needed\n",
    "]\n",
    "csv_filename = \"journalJISE.csv\"\n",
    "old_stdout = sys.stdout\n",
    "sys.stdout = open(csv_filename, 'a')\n",
    "# Function to scroll and extract all hyperlinks\n",
    "def scroll_and_extract_links(url):\n",
    "    driver = webdriver.Chrome()  # Initialize your preferred web driver\n",
    "\n",
    "    driver.get(url)\n",
    "    last_height = driver.execute_script(\"return document.body.scrollHeight\")\n",
    "\n",
    "    while True:\n",
    "        driver.execute_script(\"window.scrollTo(0, document.body.scrollHeight);\")\n",
    "        time.sleep(2)  # Adjust sleep time as needed\n",
    "\n",
    "        new_height = driver.execute_script(\"return document.body.scrollHeight\")\n",
    "        if new_height == last_height:\n",
    "            break\n",
    "        last_height = new_height\n",
    "\n",
    "    links = driver.find_elements(By.TAG_NAME, 'a')\n",
    "    hrefs = [link.get_attribute('href') for link in links]\n",
    "    \n",
    "    driver.quit()\n",
    "    return hrefs\n",
    "# Extract and print hyperlinks for each URL\n",
    "for url in urls:\n",
    "    print(f\"Links for {url}:\")\n",
    "    # Extract and print all URLs after scrolling\n",
    "    extracted_links = scroll_and_extract_links(url)\n",
    "    print(\"All URLs:\")\n",
    "    if extracted_links is not None:\n",
    "        for link in extracted_links:\n",
    "            #if link is not None and \"pdf\" in link:\n",
    "            print(link)\n",
    "print()\n",
    "\n",
    "\n"
   ]
  },
  {
   "cell_type": "code",
   "execution_count": null,
   "id": "bf640e0b",
   "metadata": {},
   "outputs": [],
   "source": []
  }
 ],
 "metadata": {
  "kernelspec": {
   "display_name": "Python 3 (ipykernel)",
   "language": "python",
   "name": "python3"
  },
  "language_info": {
   "codemirror_mode": {
    "name": "ipython",
    "version": 3
   },
   "file_extension": ".py",
   "mimetype": "text/x-python",
   "name": "python",
   "nbconvert_exporter": "python",
   "pygments_lexer": "ipython3",
   "version": "3.11.3"
  }
 },
 "nbformat": 4,
 "nbformat_minor": 5
}
