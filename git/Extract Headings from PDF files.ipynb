{
 "cells": [
  {
   "cell_type": "code",
   "execution_count": 6,
   "id": "16f2b861",
   "metadata": {},
   "outputs": [
    {
     "ename": "KeyError",
     "evalue": "4",
     "output_type": "error",
     "traceback": [
      "\u001b[1;31m---------------------------------------------------------------------------\u001b[0m",
      "\u001b[1;31mKeyError\u001b[0m                                  Traceback (most recent call last)",
      "Cell \u001b[1;32mIn[6], line 30\u001b[0m\n\u001b[0;32m     28\u001b[0m \u001b[38;5;66;03m# Replace 'your_folder_path' with the path to the folder containing your PDFs\u001b[39;00m\n\u001b[0;32m     29\u001b[0m folder_path \u001b[38;5;241m=\u001b[39m \u001b[38;5;124m'\u001b[39m\u001b[38;5;124mE:\u001b[39m\u001b[38;5;130;01m\\\\\u001b[39;00m\u001b[38;5;124mNAAC\u001b[39m\u001b[38;5;130;01m\\\\\u001b[39;00m\u001b[38;5;124mSAR\u001b[39m\u001b[38;5;124m'\u001b[39m\n\u001b[1;32m---> 30\u001b[0m headings \u001b[38;5;241m=\u001b[39m process_pdfs_in_folder(folder_path)\n\u001b[0;32m     32\u001b[0m \u001b[38;5;66;03m# Print the extracted headings\u001b[39;00m\n\u001b[0;32m     33\u001b[0m \u001b[38;5;28;01mfor\u001b[39;00m i, heading \u001b[38;5;129;01min\u001b[39;00m \u001b[38;5;28menumerate\u001b[39m(headings, start\u001b[38;5;241m=\u001b[39m\u001b[38;5;241m1\u001b[39m):\n",
      "Cell \u001b[1;32mIn[6], line 23\u001b[0m, in \u001b[0;36mprocess_pdfs_in_folder\u001b[1;34m(folder_path)\u001b[0m\n\u001b[0;32m     21\u001b[0m \u001b[38;5;28;01mif\u001b[39;00m filename\u001b[38;5;241m.\u001b[39mendswith(\u001b[38;5;124m\"\u001b[39m\u001b[38;5;124m.pdf\u001b[39m\u001b[38;5;124m\"\u001b[39m):\n\u001b[0;32m     22\u001b[0m     pdf_path \u001b[38;5;241m=\u001b[39m os\u001b[38;5;241m.\u001b[39mpath\u001b[38;5;241m.\u001b[39mjoin(folder_path, filename)\n\u001b[1;32m---> 23\u001b[0m     headings \u001b[38;5;241m=\u001b[39m extract_headings(pdf_path)\n\u001b[0;32m     24\u001b[0m     \u001b[38;5;28mprint\u001b[39m(headings)\n\u001b[0;32m     25\u001b[0m     headings_all_pdfs\u001b[38;5;241m.\u001b[39mextend(headings)\n",
      "Cell \u001b[1;32mIn[6], line 11\u001b[0m, in \u001b[0;36mextract_headings\u001b[1;34m(pdf_path, min_font_size)\u001b[0m\n\u001b[0;32m      9\u001b[0m blocks \u001b[38;5;241m=\u001b[39m page\u001b[38;5;241m.\u001b[39mget_text(\u001b[38;5;124m\"\u001b[39m\u001b[38;5;124mdict\u001b[39m\u001b[38;5;124m\"\u001b[39m, flags\u001b[38;5;241m=\u001b[39m\u001b[38;5;241m11\u001b[39m)[\u001b[38;5;124m\"\u001b[39m\u001b[38;5;124mblocks\u001b[39m\u001b[38;5;124m\"\u001b[39m]\n\u001b[0;32m     10\u001b[0m \u001b[38;5;28;01mfor\u001b[39;00m b \u001b[38;5;129;01min\u001b[39;00m blocks:\n\u001b[1;32m---> 11\u001b[0m     text \u001b[38;5;241m=\u001b[39m b[\u001b[38;5;241m4\u001b[39m]  \u001b[38;5;66;03m# The text content is at index 4 in the block information\u001b[39;00m\n\u001b[0;32m     12\u001b[0m     font_size \u001b[38;5;241m=\u001b[39m b[\u001b[38;5;241m1\u001b[39m]  \u001b[38;5;66;03m# Font information is at index 1 in the block information\u001b[39;00m\n\u001b[0;32m     13\u001b[0m     \u001b[38;5;28;01mif\u001b[39;00m font_size[\u001b[38;5;124m\"\u001b[39m\u001b[38;5;124msize\u001b[39m\u001b[38;5;124m\"\u001b[39m] \u001b[38;5;241m>\u001b[39m min_font_size:\n",
      "\u001b[1;31mKeyError\u001b[0m: 4"
     ]
    }
   ],
   "source": [
    "import fitz  # PyMuPDF\n",
    "import os\n",
    "\n",
    "def extract_headings(pdf_path, min_font_size=18):\n",
    "    headings = []\n",
    "    doc = fitz.open(pdf_path)\n",
    "    for page_num in range(doc.page_count):\n",
    "        page = doc[page_num]\n",
    "        blocks = page.get_text(\"dict\", flags=11)[\"blocks\"]\n",
    "        for b in blocks:\n",
    "            text = b[4]  # The text content is at index 4 in the block information\n",
    "            font_size = b[1]  # Font information is at index 1 in the block information\n",
    "            if font_size[\"size\"] > min_font_size:\n",
    "                headings.append(text)\n",
    "    doc.close()\n",
    "    return headings\n",
    "\n",
    "def process_pdfs_in_folder(folder_path):\n",
    "    headings_all_pdfs = []\n",
    "    for filename in os.listdir(folder_path):\n",
    "        if filename.endswith(\".pdf\"):\n",
    "            pdf_path = os.path.join(folder_path, filename)\n",
    "            headings = extract_headings(pdf_path)\n",
    "            print(headings)\n",
    "            headings_all_pdfs.extend(headings)\n",
    "    return headings_all_pdfs\n",
    "\n",
    "# Replace 'your_folder_path' with the path to the folder containing your PDFs\n",
    "folder_path = 'E:\\\\NAAC\\\\SAR'\n",
    "headings = process_pdfs_in_folder(folder_path)\n",
    "\n",
    "# Print the extracted headings\n",
    "for i, heading in enumerate(headings, start=1):\n",
    "    print(f\"{i}. {heading}\")\n"
   ]
  },
  {
   "cell_type": "code",
   "execution_count": null,
   "id": "bff9e720",
   "metadata": {},
   "outputs": [],
   "source": [
    "[A-Za-z0-9\\s]+ COLLEGE [A-Za-z0-9\\s]+"
   ]
  }
 ],
 "metadata": {
  "kernelspec": {
   "display_name": "Python 3 (ipykernel)",
   "language": "python",
   "name": "python3"
  },
  "language_info": {
   "codemirror_mode": {
    "name": "ipython",
    "version": 3
   },
   "file_extension": ".py",
   "mimetype": "text/x-python",
   "name": "python",
   "nbconvert_exporter": "python",
   "pygments_lexer": "ipython3",
   "version": "3.11.3"
  }
 },
 "nbformat": 4,
 "nbformat_minor": 5
}
