{
 "cells": [
  {
   "cell_type": "code",
   "execution_count": 4,
   "id": "66355149",
   "metadata": {},
   "outputs": [
    {
     "name": "stdout",
     "output_type": "stream",
     "text": [
      "15-9-24662.pdf\n",
      "Downloaded: 15-9-24662.pdf\n"
     ]
    }
   ],
   "source": [
    "import requests\n",
    "import time\n",
    "from urllib.parse import urlparse\n",
    "import os.path\n",
    "file_urls = [\n",
    "'https://www.mdpi.com/1424-8220/15/9/24662/pdf?version=1443067348',\n",
    "    ]  # List of URLs of the 15000 files\n",
    "\n",
    "def get_file_name_from_url(url):\n",
    "    texturl= str(url)\n",
    "    #save_path = ['D:\\DOCILE\\Sensor_Journal\\']\n",
    "    #file_name = os.path.join(save_path, texturl[36:39]+\".pdf\")\n",
    "    filename = texturl[31:33]+\"-\"+texturl[34:35]+\"-\"+texturl[36:41]+\".pdf\"\n",
    "    print(filename)\n",
    "    return filename\n",
    "\n",
    "def download_file(url,filename):\n",
    "    #filename = url.split(\"/\")[-1]  # Extracting the filename from the URL\n",
    "    try:\n",
    "        response = requests.get(url)\n",
    "        if response.status_code == 200:\n",
    "            with open(filename, 'wb') as file:\n",
    "                file.write(response.content)\n",
    "            print(f\"Downloaded: {filename}\")\n",
    "        else:\n",
    "            print(f\"Failed to download: {filename}\")\n",
    "    except Exception as e:\n",
    "        print(f\"Error downloading {filename}: {e}\")\n",
    "\n",
    "def download_files_one_at_a_time(urls):\n",
    "    for url in urls:\n",
    "        filename = get_file_name_from_url(url)  # Extracting the filename from the URL\n",
    "        download_file(url,filename)\n",
    "        time.sleep(10)  # Pause for 1 second before the next download\n",
    "\n",
    "if __name__ == \"__main__\":\n",
    "    download_files_one_at_a_time(file_urls)\n"
   ]
  },
  {
   "cell_type": "code",
   "execution_count": null,
   "id": "92c877cc",
   "metadata": {},
   "outputs": [],
   "source": []
  }
 ],
 "metadata": {
  "kernelspec": {
   "display_name": "Python 3 (ipykernel)",
   "language": "python",
   "name": "python3"
  },
  "language_info": {
   "codemirror_mode": {
    "name": "ipython",
    "version": 3
   },
   "file_extension": ".py",
   "mimetype": "text/x-python",
   "name": "python",
   "nbconvert_exporter": "python",
   "pygments_lexer": "ipython3",
   "version": "3.11.3"
  }
 },
 "nbformat": 4,
 "nbformat_minor": 5
}
