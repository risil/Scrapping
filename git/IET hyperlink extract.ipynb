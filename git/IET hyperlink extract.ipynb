{
 "cells": [
  {
   "cell_type": "code",
   "execution_count": 1,
   "id": "fbf89c3c",
   "metadata": {},
   "outputs": [
    {
     "name": "stdout",
     "output_type": "stream",
     "text": [
      "Failed to fetch the webpage. Status code: 403\n"
     ]
    }
   ],
   "source": [
    "import requests\n",
    "from bs4 import BeautifulSoup\n",
    "import csv\n",
    "\n",
    "def extract_links_from_webpage(url, csv_output_path):\n",
    "    response = requests.get(url)\n",
    "\n",
    "    if response.status_code == 200:\n",
    "        soup = BeautifulSoup(response.content, 'html.parser')\n",
    "        links = []\n",
    "\n",
    "        for a_tag in soup.find_all('a', href=True):\n",
    "            url = a_tag['href']\n",
    "            links.append({'URL': url})\n",
    "\n",
    "        # Save links to CSV file\n",
    "        fields = ['URL']\n",
    "        with open(csv_output_path, 'w', newline='', encoding='utf-8') as csv_file:\n",
    "            writer = csv.DictWriter(csv_file, fieldnames=fields)\n",
    "            writer.writeheader()\n",
    "            writer.writerows(links)\n",
    "\n",
    "        print(f\"Links extracted and saved to '{csv_output_path}'\")\n",
    "    else:\n",
    "        print(f\"Failed to fetch the webpage. Status code: {response.status_code}\")\n",
    "\n",
    "# Example usage\n",
    "webpage_url = 'https://www.mhada.gov.in/en/content/mumbai-board-housing-lottery-2023-results'\n",
    "csv_output_path = 'output_links.csv'\n",
    "extract_links_from_webpage(webpage_url, csv_output_path)\n"
   ]
  },
  {
   "cell_type": "code",
   "execution_count": null,
   "id": "5a493d1f",
   "metadata": {},
   "outputs": [],
   "source": []
  }
 ],
 "metadata": {
  "kernelspec": {
   "display_name": "Python 3 (ipykernel)",
   "language": "python",
   "name": "python3"
  },
  "language_info": {
   "codemirror_mode": {
    "name": "ipython",
    "version": 3
   },
   "file_extension": ".py",
   "mimetype": "text/x-python",
   "name": "python",
   "nbconvert_exporter": "python",
   "pygments_lexer": "ipython3",
   "version": "3.11.3"
  }
 },
 "nbformat": 4,
 "nbformat_minor": 5
}
