{
 "cells": [
  {
   "cell_type": "code",
   "execution_count": 1,
   "id": "036d02fb",
   "metadata": {},
   "outputs": [
    {
     "name": "stdout",
     "output_type": "stream",
     "text": [
      "['3d-semantic-segmentation-with-submanifold-sparseconvnets.pdf', 'attendance.png', 'BATS Spectral Biclustering.pdf', 'Biometric Recognition By Gait A Survey of Modalities and Features.pdf', 'Covariate-Adjusted Tensor Classification in.pdf', 'Domain-Independent Unsupervised Text Segmentation.pdf', 'GAIT RECOGNITION BASED ON 3D HOLOSCOPIC GAIT ENERGY IMAGE.pdf', 'Gait Recognition using Binarized Statistical Image.pdf', 'graph embedding.pdf', 'higher order correlation coefficient analysis.pdf', 'Human Action Recognition Based on LLC.pdf', 'Human gait recognition using GEI-based local.pdf', 'imani2020.pdf', 'Learning Efficient Spatial-Temporal Gait Features with Deep Learning.pdf', 'Learning Optimised Representations for View-invariant Gait Recognition.pdf', 'Multi-view large population gait dataset.pdf', 'NN_2018.pdf', 'PERSON IDENTIFICATION USING SPATIOTEMPORAL MOTION CHARACTERISTICS.pdf', 'Principal Component Analysis with Tensor Train subspace.pdf', 'Reducing the Effect of Covariate Factors in Gait.pdf', 'SURVEY ON MULTIMODEL BIOMETRICS.pdf', 'TENSOR-BASED NONLINEAR CLASSIFIER FOR HIGH-ORDER DATA ANALYSIS.pdf', 'View-invariant gait recognition based on kinect.pdf']\n"
     ]
    }
   ],
   "source": [
    "import os\n",
    "\n",
    "# folder path\n",
    "dir_path = r'E:\\\\papers to be read\\\\'\n",
    "\n",
    "# list to store files\n",
    "res = []\n",
    "\n",
    "# Iterate directory\n",
    "for path in os.listdir(dir_path):\n",
    "    # check if current path is a file\n",
    "    if os.path.isfile(os.path.join(dir_path, path)):\n",
    "        res.append(path)\n",
    "print(res)"
   ]
  },
  {
   "cell_type": "code",
   "execution_count": null,
   "id": "0f7b39c1",
   "metadata": {},
   "outputs": [],
   "source": []
  }
 ],
 "metadata": {
  "kernelspec": {
   "display_name": "Python 3 (ipykernel)",
   "language": "python",
   "name": "python3"
  },
  "language_info": {
   "codemirror_mode": {
    "name": "ipython",
    "version": 3
   },
   "file_extension": ".py",
   "mimetype": "text/x-python",
   "name": "python",
   "nbconvert_exporter": "python",
   "pygments_lexer": "ipython3",
   "version": "3.9.12"
  }
 },
 "nbformat": 4,
 "nbformat_minor": 5
}
