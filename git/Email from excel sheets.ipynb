{
 "cells": [
  {
   "cell_type": "code",
   "execution_count": 2,
   "id": "e34177b3",
   "metadata": {},
   "outputs": [],
   "source": [
    "import os\n",
    "import pandas as pd\n",
    "import re\n",
    "\n",
    "# Specify the folder containing Excel files\n",
    "excel_folder = 'E:\\\\NAAC\\\\ARIASSR\\\\ssr_download'\n",
    "\n",
    "# Regular expression for matching email addresses\n",
    "email_regex = r'\\b[A-Za-z0-9._%+-]+@[A-Za-z0-9.-]+\\.[A-Z|a-z]{2,7}\\b'\n",
    "\n",
    "# Function to extract email addresses from a DataFrame\n",
    "def extract_emails_from_dataframe(df):\n",
    "    emails = []\n",
    "    for column in df.columns:\n",
    "        for value in df[column]:\n",
    "            if isinstance(value, str):\n",
    "                emails += re.findall(email_regex, value)\n",
    "    return emails\n",
    "\n",
    "# List all Excel files in the folder\n",
    "excel_files = [f for f in os.listdir(excel_folder) if f.endswith('.xlsx')]\n",
    "\n",
    "# Extract and print email addresses from each Excel file\n",
    "for excel_file in excel_files:\n",
    "    excel_path = os.path.join(excel_folder, excel_file)\n",
    "    print(excel_file)\n",
    "    # Read the Excel file into a DataFrame\n",
    "    try:\n",
    "        df = pd.read_excel(excel_path)\n",
    "    except pd.errors.EmptyDataError:\n",
    "        continue  # Skip empty Excel files\n",
    "    \n",
    "    email_addresses = extract_emails_from_dataframe(df)\n",
    "    \n",
    "    if email_addresses:\n",
    "        print(f'Email addresses in {excel_file}:')\n",
    "        for email in email_addresses:\n",
    "            print(email)\n"
   ]
  },
  {
   "cell_type": "code",
   "execution_count": null,
   "id": "a04e6707",
   "metadata": {},
   "outputs": [],
   "source": []
  },
  {
   "cell_type": "code",
   "execution_count": null,
   "id": "4df77cc3",
   "metadata": {},
   "outputs": [],
   "source": []
  }
 ],
 "metadata": {
  "kernelspec": {
   "display_name": "Python 3 (ipykernel)",
   "language": "python",
   "name": "python3"
  },
  "language_info": {
   "codemirror_mode": {
    "name": "ipython",
    "version": 3
   },
   "file_extension": ".py",
   "mimetype": "text/x-python",
   "name": "python",
   "nbconvert_exporter": "python",
   "pygments_lexer": "ipython3",
   "version": "3.11.3"
  }
 },
 "nbformat": 4,
 "nbformat_minor": 5
}
